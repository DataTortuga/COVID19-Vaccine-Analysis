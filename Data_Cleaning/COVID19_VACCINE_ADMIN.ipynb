{
 "cells": [
  {
   "cell_type": "code",
   "execution_count": 1,
   "metadata": {},
   "outputs": [],
   "source": [
    "import pandas as pd\n",
    "import matplotlib.pyplot as plt\n",
    "import numpy as np\n",
    "import pylab as pl\n",
    "import plotly.graph_objects as go"
   ]
  },
  {
   "cell_type": "code",
   "execution_count": 2,
   "metadata": {},
   "outputs": [
    {
     "name": "stderr",
     "output_type": "stream",
     "text": [
      "C:\\Users\\dcurt\\anaconda3\\lib\\site-packages\\IPython\\core\\interactiveshell.py:3146: DtypeWarning: Columns (8) have mixed types.Specify dtype option on import or set low_memory=False.\n",
      "  has_raised = await self.run_ast_nodes(code_ast.body, cell_name,\n"
     ]
    }
   ],
   "source": [
    "data_file = '../Resources/COVID19_administrations.csv'\n",
    "state_file = '../Resources/States Codes.csv'\n",
    "output_file = '../Resources/Output_COVID_DATA.csv'\n",
    "df = pd.read_csv(data_file)\n",
    "df2 = pd.read_csv(state_file)\n",
    "df_output = pd.read_csv(output_file)"
   ]
  },
  {
   "cell_type": "code",
   "execution_count": 3,
   "metadata": {},
   "outputs": [
    {
     "data": {
      "text/html": [
       "<div>\n",
       "<style scoped>\n",
       "    .dataframe tbody tr th:only-of-type {\n",
       "        vertical-align: middle;\n",
       "    }\n",
       "\n",
       "    .dataframe tbody tr th {\n",
       "        vertical-align: top;\n",
       "    }\n",
       "\n",
       "    .dataframe thead th {\n",
       "        text-align: right;\n",
       "    }\n",
       "</style>\n",
       "<table border=\"1\" class=\"dataframe\">\n",
       "  <thead>\n",
       "    <tr style=\"text-align: right;\">\n",
       "      <th></th>\n",
       "      <th>Name</th>\n",
       "      <th>STATE</th>\n",
       "    </tr>\n",
       "  </thead>\n",
       "  <tbody>\n",
       "    <tr>\n",
       "      <th>0</th>\n",
       "      <td>Alabama</td>\n",
       "      <td>AL</td>\n",
       "    </tr>\n",
       "    <tr>\n",
       "      <th>1</th>\n",
       "      <td>Alaska</td>\n",
       "      <td>AK</td>\n",
       "    </tr>\n",
       "    <tr>\n",
       "      <th>2</th>\n",
       "      <td>Arizona</td>\n",
       "      <td>AZ</td>\n",
       "    </tr>\n",
       "    <tr>\n",
       "      <th>3</th>\n",
       "      <td>Arkansas</td>\n",
       "      <td>AR</td>\n",
       "    </tr>\n",
       "    <tr>\n",
       "      <th>4</th>\n",
       "      <td>California</td>\n",
       "      <td>CA</td>\n",
       "    </tr>\n",
       "  </tbody>\n",
       "</table>\n",
       "</div>"
      ],
      "text/plain": [
       "         Name STATE\n",
       "0     Alabama    AL\n",
       "1      Alaska    AK\n",
       "2     Arizona    AZ\n",
       "3    Arkansas    AR\n",
       "4  California    CA"
      ]
     },
     "execution_count": 3,
     "metadata": {},
     "output_type": "execute_result"
    }
   ],
   "source": [
    "df2.head()"
   ]
  },
  {
   "cell_type": "code",
   "execution_count": 4,
   "metadata": {},
   "outputs": [
    {
     "data": {
      "text/plain": [
       "Index(['State/Territory/Federal Entity', 'Total Doses Delivered',\n",
       "       'Doses Delivered per 100K', '18+ Doses Delivered per 100K',\n",
       "       'Total Doses Administered by State where Administered',\n",
       "       'Doses Administered per 100k by State where Administered',\n",
       "       '18+ Doses Administered by State where Administered',\n",
       "       '18+ Doses Administered per 100K by State where Administered',\n",
       "       'People with at least One Dose by State of Residence',\n",
       "       'Percent of Total Pop with at least One Dose by State of Residence',\n",
       "       'People 18+ with at least One Dose by State of Residence',\n",
       "       'Percent of 18+ Pop with at least One Dose by State of Residence',\n",
       "       'People Fully Vaccinated by State of Residence',\n",
       "       'Percent of Total Pop Fully Vaccinated by State of Residence',\n",
       "       'People 18+ Fully Vaccinated by State of Residence',\n",
       "       'Percent of 18+ Pop Fully Vaccinated by State of Residence',\n",
       "       'Total Number of Pfizer doses delivered',\n",
       "       'Total Number of Moderna doses delivered',\n",
       "       'Total Number of Janssen doses delivered',\n",
       "       'Total Number of doses from unknown manufacturer delivered',\n",
       "       'Total Number of Janssen doses administered',\n",
       "       'Total Number of Moderna doses administered',\n",
       "       'Total Number of Pfizer doses adminstered',\n",
       "       'Total Number of doses from unknown manufacturer administered',\n",
       "       'People Fully Vaccinated Moderna Resident',\n",
       "       'People Fully Vaccinated Pfizer Resident',\n",
       "       'People Fully Vaccinated Janssen Resident',\n",
       "       'People Fully Vaccinated Unknown 2-dose manufacturer Resident',\n",
       "       'People 18+ Fully Vaccinated Moderna Resident',\n",
       "       'People 18+ Fully Vaccinated Pfizer Resident',\n",
       "       'People 18+ Fully Vaccinated Janssen Resident',\n",
       "       'People 18+ Fully Vaccinated Unknown 2-dose manufacturer Resident',\n",
       "       'People with 2 Doses by State of Residence',\n",
       "       'Percent of Total Pop with 1+ Doses by State of Residence',\n",
       "       'People 18+ with 1+ Doses by State of Residence',\n",
       "       'Percent of 18+ Pop with 1+ Doses by State of Residence',\n",
       "       'Percent of Total Pop with 2 Doses by State of Residence',\n",
       "       'People 18+ with 2 Doses by State of Residence',\n",
       "       'Percent of 18+ Pop with 2 Doses by State of Residence',\n",
       "       'People with 1+ Doses by State of Residence',\n",
       "       'People 65+ with at least One Dose by State of Residence',\n",
       "       'Percent of 65+ Pop with at least One Dose by State of Residence',\n",
       "       'People 65+ Fully Vaccinated by State of Residence',\n",
       "       'Percent of 65+ Pop Fully Vaccinated by State of Residence',\n",
       "       'People 65+ Fully Vaccinated_Moderna_Resident',\n",
       "       'People 65+ Fully Vaccinated_Pfizer_Resident',\n",
       "       'People 65+ Fully Vaccinated_Janssen_Resident',\n",
       "       'People 65+ Fully Vaccinated_Unknown 2-dose Manuf_Resident',\n",
       "       '65+ Doses Administered by State where Administered',\n",
       "       'Doses Administered per 100k of 65+ pop by State where Administered',\n",
       "       'Doses Delivered per 100k of 65+ pop',\n",
       "       'People 12+ with at least One Dose by State of Residence',\n",
       "       'Percent of 12+ Pop with at least One Dose by State of Residence',\n",
       "       'People 12+ Fully Vaccinated by State of Residence',\n",
       "       'Percent of 12+ Pop Fully Vaccinated by State of Residence',\n",
       "       'People 12+ Fully Vaccinated_Moderna_Resident',\n",
       "       'People 12+ Fully Vaccinated_Pfizer_Resident',\n",
       "       'People 12+ Fully Vaccinated_Janssen_Resident',\n",
       "       'People 12+ Fully Vaccinated_Unknown 2-dose Manuf_Resident',\n",
       "       '12+ Doses Administered by State where Administered',\n",
       "       'Doses Administered per 100k of 12+ pop by State where Administered',\n",
       "       'Doses Delivered per 100k of 12+ pop'],\n",
       "      dtype='object')"
      ]
     },
     "execution_count": 4,
     "metadata": {},
     "output_type": "execute_result"
    }
   ],
   "source": [
    "df.columns"
   ]
  },
  {
   "cell_type": "code",
   "execution_count": 5,
   "metadata": {},
   "outputs": [],
   "source": [
    "df.drop([\n",
    "       '18+ Doses Delivered per 100K',\n",
    "       'Doses Administered per 100k by State where Administered',\n",
    "       '18+ Doses Administered by State where Administered',\n",
    "       '18+ Doses Administered per 100K by State where Administered',\n",
    "       'People with at least One Dose by State of Residence',\n",
    "       'Percent of Total Pop with at least One Dose by State of Residence',\n",
    "       'People 18+ with at least One Dose by State of Residence',\n",
    "       'Percent of 18+ Pop with at least One Dose by State of Residence',\n",
    "       'Total Number of Pfizer doses delivered',\n",
    "       'Total Number of Moderna doses delivered',\n",
    "       'Total Number of Janssen doses delivered',\n",
    "       'Total Number of Janssen doses administered',\n",
    "       'Total Number of Moderna doses administered',\n",
    "       'Total Number of Pfizer doses adminstered',\n",
    "       'Total Number of doses from unknown manufacturer delivered',\n",
    "       'Total Number of doses from unknown manufacturer administered',\n",
    "       'People Fully Vaccinated Unknown 2-dose manufacturer Resident',\n",
    "       'People 18+ Fully Vaccinated Unknown 2-dose manufacturer Resident',\n",
    "       'People with 2 Doses by State of Residence',\n",
    "       'Percent of Total Pop with 1+ Doses by State of Residence',\n",
    "       'People 18+ with 1+ Doses by State of Residence',\n",
    "       'Percent of 18+ Pop with 1+ Doses by State of Residence',\n",
    "       'Percent of Total Pop with 2 Doses by State of Residence',\n",
    "       'People 18+ with 2 Doses by State of Residence',\n",
    "       'Percent of 18+ Pop with 2 Doses by State of Residence',\n",
    "       'People with 1+ Doses by State of Residence',\n",
    "       'People 65+ with at least One Dose by State of Residence',\n",
    "       'Percent of 65+ Pop with at least One Dose by State of Residence',\n",
    "       'People 65+ Fully Vaccinated_Unknown 2-dose Manuf_Resident',\n",
    "       '65+ Doses Administered by State where Administered',\n",
    "       'Doses Administered per 100k of 65+ pop by State where Administered',\n",
    "       'Doses Delivered per 100k of 65+ pop',\n",
    "       'People 12+ with at least One Dose by State of Residence',\n",
    "       'Percent of 12+ Pop with at least One Dose by State of Residence',\n",
    "       'People 12+ Fully Vaccinated_Unknown 2-dose Manuf_Resident',\n",
    "       '12+ Doses Administered by State where Administered',\n",
    "       'Doses Administered per 100k of 12+ pop by State where Administered',\n",
    "       'Doses Delivered per 100k of 12+ pop'],axis=1, inplace=True)"
   ]
  },
  {
   "cell_type": "code",
   "execution_count": 6,
   "metadata": {},
   "outputs": [
    {
     "data": {
      "text/plain": [
       "(63, 24)"
      ]
     },
     "execution_count": 6,
     "metadata": {},
     "output_type": "execute_result"
    }
   ],
   "source": [
    "df.shape"
   ]
  },
  {
   "cell_type": "code",
   "execution_count": 7,
   "metadata": {},
   "outputs": [],
   "source": [
    "df.drop('Doses Delivered per 100K',axis=1,inplace=True)"
   ]
  },
  {
   "cell_type": "code",
   "execution_count": 8,
   "metadata": {},
   "outputs": [
    {
     "data": {
      "text/plain": [
       "(63, 23)"
      ]
     },
     "execution_count": 8,
     "metadata": {},
     "output_type": "execute_result"
    }
   ],
   "source": [
    "df.shape"
   ]
  },
  {
   "cell_type": "code",
   "execution_count": 9,
   "metadata": {},
   "outputs": [],
   "source": [
    "# df.to_csv('../Resources/COVID_ADMIN_DATA.csv', index=False, header=True)"
   ]
  },
  {
   "cell_type": "code",
   "execution_count": 10,
   "metadata": {},
   "outputs": [],
   "source": [
    "df.rename(columns = {'State/Territory/Federal Entity': 'Name'},inplace=True)\n",
    "df3 = pd.merge(df,df2,how='inner',on='Name')"
   ]
  },
  {
   "cell_type": "code",
   "execution_count": 11,
   "metadata": {},
   "outputs": [
    {
     "data": {
      "text/plain": [
       "(49, 24)"
      ]
     },
     "execution_count": 11,
     "metadata": {},
     "output_type": "execute_result"
    }
   ],
   "source": [
    "df3.to_csv('../Resources/COVID_ADMIN_DATA.csv', index=False, header=True)\n",
    "df3.shape"
   ]
  },
  {
   "cell_type": "code",
   "execution_count": 12,
   "metadata": {},
   "outputs": [],
   "source": [
    "m_total_vac = df3['People Fully Vaccinated Moderna Resident'].sum()\n",
    "p_total_vac = df3['People Fully Vaccinated Pfizer Resident'].sum()\n",
    "j_total_vac = df3['People Fully Vaccinated Janssen Resident'].sum()"
   ]
  },
  {
   "cell_type": "code",
   "execution_count": 13,
   "metadata": {},
   "outputs": [
    {
     "data": {
      "text/plain": [
       "array(['TX', 'CA', 'WA', 'NV', 'KS', 'OH', 'TN', 'VA', 'NC', 'NY', 'GA',\n",
       "       'NJ', 'LA', nan, 'IL', 'MD', 'ME', 'MA', 'MI', 'CT', 'FL', 'OK',\n",
       "       'AR', 'ID', 'PA', 'IN', 'AZ', 'MN', 'NH', 'MO', 'CO', 'NE', 'UT',\n",
       "       'DE', 'AL', 'MT', 'RI', 'MS', 'IA', 'AK', 'HI', 'WV', 'WI', 'NM',\n",
       "       'OR', 'PR', 'KY', 'ND', 'SC', 'VT', 'DC', 'SD', 'WY', 'XB', 'VI',\n",
       "       'Ca', 'GU', 'AS', 'MP', 'MH', 'FM', 'XV', 'Tx', 'QM'], dtype=object)"
      ]
     },
     "execution_count": 13,
     "metadata": {},
     "output_type": "execute_result"
    }
   ],
   "source": [
    "df_output.STATE.unique()"
   ]
  },
  {
   "cell_type": "code",
   "execution_count": 14,
   "metadata": {},
   "outputs": [
    {
     "data": {
      "text/plain": [
       "array(['TX', 'CA', 'WA', 'NV', 'KS', 'OH', 'TN', 'VA', 'NC', 'NY', 'GA',\n",
       "       'NJ', 'LA', nan, 'IL', 'MD', 'ME', 'MA', 'MI', 'CT', 'FL', 'OK',\n",
       "       'AR', 'ID', 'PA', 'IN', 'AZ', 'MN', 'NH', 'MO', 'CO', 'NE', 'UT',\n",
       "       'DE', 'AL', 'MT', 'RI', 'MS', 'IA', 'AK', 'HI', 'WV', 'WI', 'NM',\n",
       "       'OR', 'PR', 'KY', 'ND', 'SC', 'VT', 'DC', 'SD', 'WY', 'XB', 'VI',\n",
       "       'GU', 'AS', 'MP', 'MH', 'FM', 'XV', 'QM'], dtype=object)"
      ]
     },
     "execution_count": 14,
     "metadata": {},
     "output_type": "execute_result"
    }
   ],
   "source": [
    "df_output['STATE'] = df_output['STATE'].str.upper()\n",
    "df_output.STATE.unique()"
   ]
  },
  {
   "cell_type": "code",
   "execution_count": null,
   "metadata": {},
   "outputs": [],
   "source": []
  },
  {
   "cell_type": "code",
   "execution_count": null,
   "metadata": {},
   "outputs": [],
   "source": []
  },
  {
   "cell_type": "code",
   "execution_count": null,
   "metadata": {},
   "outputs": [],
   "source": []
  },
  {
   "cell_type": "code",
   "execution_count": null,
   "metadata": {},
   "outputs": [],
   "source": []
  },
  {
   "cell_type": "code",
   "execution_count": null,
   "metadata": {},
   "outputs": [],
   "source": []
  },
  {
   "cell_type": "code",
   "execution_count": null,
   "metadata": {},
   "outputs": [],
   "source": []
  },
  {
   "cell_type": "code",
   "execution_count": 15,
   "metadata": {},
   "outputs": [],
   "source": [
    "df_merge = pd.merge(df_output,df3, on='STATE',how='inner')\n"
   ]
  },
  {
   "cell_type": "code",
   "execution_count": 16,
   "metadata": {},
   "outputs": [],
   "source": [
    "df_merge.to_csv('../Resources/Cleaned_Merged_Output.csv')"
   ]
  },
  {
   "cell_type": "code",
   "execution_count": null,
   "metadata": {},
   "outputs": [],
   "source": []
  },
  {
   "cell_type": "code",
   "execution_count": 17,
   "metadata": {},
   "outputs": [
    {
     "data": {
      "text/plain": [
       "(214315, 35)"
      ]
     },
     "execution_count": 17,
     "metadata": {},
     "output_type": "execute_result"
    }
   ],
   "source": [
    "df_merge.shape"
   ]
  },
  {
   "cell_type": "code",
   "execution_count": 18,
   "metadata": {},
   "outputs": [
    {
     "data": {
      "text/plain": [
       "array(['TX', 'CA', 'WA', 'NV', 'KS', 'OH', 'TN', 'VA', 'NC', 'GA', 'NJ',\n",
       "       'LA', 'IL', 'MD', 'ME', 'MA', 'MI', 'CT', 'FL', 'OK', 'AR', 'ID',\n",
       "       'PA', 'IN', 'AZ', 'MN', 'NH', 'MO', 'CO', 'NE', 'UT', 'DE', 'AL',\n",
       "       'MT', 'RI', 'MS', 'IA', 'AK', 'HI', 'WV', 'WI', 'NM', 'OR', 'KY',\n",
       "       'ND', 'SC', 'VT', 'SD', 'WY'], dtype=object)"
      ]
     },
     "execution_count": 18,
     "metadata": {},
     "output_type": "execute_result"
    }
   ],
   "source": [
    "df_merge.STATE.unique()"
   ]
  },
  {
   "cell_type": "code",
   "execution_count": 19,
   "metadata": {},
   "outputs": [],
   "source": [
    "df_merge['DIED'] = df_merge['DIED'].replace(np.nan,'N')"
   ]
  },
  {
   "cell_type": "code",
   "execution_count": 20,
   "metadata": {},
   "outputs": [
    {
     "data": {
      "text/plain": [
       "0    N\n",
       "1    N\n",
       "2    N\n",
       "3    N\n",
       "4    N\n",
       "Name: DIED, dtype: object"
      ]
     },
     "execution_count": 20,
     "metadata": {},
     "output_type": "execute_result"
    }
   ],
   "source": [
    "df_merge['DIED'].head()"
   ]
  },
  {
   "cell_type": "code",
   "execution_count": 21,
   "metadata": {},
   "outputs": [
    {
     "data": {
      "text/plain": [
       "array(['N', 'Y'], dtype=object)"
      ]
     },
     "execution_count": 21,
     "metadata": {},
     "output_type": "execute_result"
    }
   ],
   "source": [
    "df_merge['DIED'].unique()"
   ]
  },
  {
   "cell_type": "code",
   "execution_count": 22,
   "metadata": {},
   "outputs": [
    {
     "data": {
      "text/html": [
       "<div>\n",
       "<style scoped>\n",
       "    .dataframe tbody tr th:only-of-type {\n",
       "        vertical-align: middle;\n",
       "    }\n",
       "\n",
       "    .dataframe tbody tr th {\n",
       "        vertical-align: top;\n",
       "    }\n",
       "\n",
       "    .dataframe thead tr th {\n",
       "        text-align: left;\n",
       "    }\n",
       "\n",
       "    .dataframe thead tr:last-of-type th {\n",
       "        text-align: right;\n",
       "    }\n",
       "</style>\n",
       "<table border=\"1\" class=\"dataframe\">\n",
       "  <thead>\n",
       "    <tr>\n",
       "      <th></th>\n",
       "      <th></th>\n",
       "      <th></th>\n",
       "      <th colspan=\"8\" halign=\"left\">VAERS_ID</th>\n",
       "      <th colspan=\"2\" halign=\"left\">AGE_YRS</th>\n",
       "      <th>...</th>\n",
       "      <th colspan=\"2\" halign=\"left\">People 12+ Fully Vaccinated_Pfizer_Resident</th>\n",
       "      <th colspan=\"8\" halign=\"left\">People 12+ Fully Vaccinated_Janssen_Resident</th>\n",
       "    </tr>\n",
       "    <tr>\n",
       "      <th></th>\n",
       "      <th></th>\n",
       "      <th></th>\n",
       "      <th>count</th>\n",
       "      <th>mean</th>\n",
       "      <th>std</th>\n",
       "      <th>min</th>\n",
       "      <th>25%</th>\n",
       "      <th>50%</th>\n",
       "      <th>75%</th>\n",
       "      <th>max</th>\n",
       "      <th>count</th>\n",
       "      <th>mean</th>\n",
       "      <th>...</th>\n",
       "      <th>75%</th>\n",
       "      <th>max</th>\n",
       "      <th>count</th>\n",
       "      <th>mean</th>\n",
       "      <th>std</th>\n",
       "      <th>min</th>\n",
       "      <th>25%</th>\n",
       "      <th>50%</th>\n",
       "      <th>75%</th>\n",
       "      <th>max</th>\n",
       "    </tr>\n",
       "    <tr>\n",
       "      <th>VAX_NAME</th>\n",
       "      <th>SEX</th>\n",
       "      <th>DIED</th>\n",
       "      <th></th>\n",
       "      <th></th>\n",
       "      <th></th>\n",
       "      <th></th>\n",
       "      <th></th>\n",
       "      <th></th>\n",
       "      <th></th>\n",
       "      <th></th>\n",
       "      <th></th>\n",
       "      <th></th>\n",
       "      <th></th>\n",
       "      <th></th>\n",
       "      <th></th>\n",
       "      <th></th>\n",
       "      <th></th>\n",
       "      <th></th>\n",
       "      <th></th>\n",
       "      <th></th>\n",
       "      <th></th>\n",
       "      <th></th>\n",
       "      <th></th>\n",
       "    </tr>\n",
       "  </thead>\n",
       "  <tbody>\n",
       "    <tr>\n",
       "      <th rowspan=\"6\" valign=\"top\">COVID19 (COVID19 (JANSSEN))</th>\n",
       "      <th rowspan=\"2\" valign=\"top\">F</th>\n",
       "      <th>N</th>\n",
       "      <td>18822.0</td>\n",
       "      <td>1.201053e+06</td>\n",
       "      <td>62782.191144</td>\n",
       "      <td>1070055.0</td>\n",
       "      <td>1164765.50</td>\n",
       "      <td>1203012.0</td>\n",
       "      <td>1241220.00</td>\n",
       "      <td>1336292.0</td>\n",
       "      <td>16950.0</td>\n",
       "      <td>45.245841</td>\n",
       "      <td>...</td>\n",
       "      <td>2916736.0</td>\n",
       "      <td>8889885.0</td>\n",
       "      <td>18822.0</td>\n",
       "      <td>444843.450271</td>\n",
       "      <td>398902.054521</td>\n",
       "      <td>13876.0</td>\n",
       "      <td>172826.00</td>\n",
       "      <td>294439.0</td>\n",
       "      <td>488371.0</td>\n",
       "      <td>1364788.0</td>\n",
       "    </tr>\n",
       "    <tr>\n",
       "      <th>Y</th>\n",
       "      <td>125.0</td>\n",
       "      <td>1.223048e+06</td>\n",
       "      <td>56462.845020</td>\n",
       "      <td>1102815.0</td>\n",
       "      <td>1188040.00</td>\n",
       "      <td>1223378.0</td>\n",
       "      <td>1266405.00</td>\n",
       "      <td>1331099.0</td>\n",
       "      <td>111.0</td>\n",
       "      <td>68.270270</td>\n",
       "      <td>...</td>\n",
       "      <td>2916736.0</td>\n",
       "      <td>8889885.0</td>\n",
       "      <td>125.0</td>\n",
       "      <td>412800.896000</td>\n",
       "      <td>370305.253904</td>\n",
       "      <td>19741.0</td>\n",
       "      <td>143687.00</td>\n",
       "      <td>294439.0</td>\n",
       "      <td>488371.0</td>\n",
       "      <td>1364788.0</td>\n",
       "    </tr>\n",
       "    <tr>\n",
       "      <th rowspan=\"2\" valign=\"top\">M</th>\n",
       "      <th>N</th>\n",
       "      <td>9026.0</td>\n",
       "      <td>1.210359e+06</td>\n",
       "      <td>65291.712639</td>\n",
       "      <td>1070546.0</td>\n",
       "      <td>1174001.00</td>\n",
       "      <td>1205819.0</td>\n",
       "      <td>1253909.75</td>\n",
       "      <td>1336295.0</td>\n",
       "      <td>8155.0</td>\n",
       "      <td>43.451502</td>\n",
       "      <td>...</td>\n",
       "      <td>4252912.0</td>\n",
       "      <td>8889885.0</td>\n",
       "      <td>9026.0</td>\n",
       "      <td>451531.233215</td>\n",
       "      <td>404993.222617</td>\n",
       "      <td>13876.0</td>\n",
       "      <td>172826.00</td>\n",
       "      <td>294439.0</td>\n",
       "      <td>821315.0</td>\n",
       "      <td>1364788.0</td>\n",
       "    </tr>\n",
       "    <tr>\n",
       "      <th>Y</th>\n",
       "      <td>144.0</td>\n",
       "      <td>1.221445e+06</td>\n",
       "      <td>56885.766601</td>\n",
       "      <td>1093939.0</td>\n",
       "      <td>1200988.50</td>\n",
       "      <td>1215401.0</td>\n",
       "      <td>1259290.25</td>\n",
       "      <td>1336097.0</td>\n",
       "      <td>131.0</td>\n",
       "      <td>63.847328</td>\n",
       "      <td>...</td>\n",
       "      <td>2916736.0</td>\n",
       "      <td>8889885.0</td>\n",
       "      <td>144.0</td>\n",
       "      <td>411557.055556</td>\n",
       "      <td>411381.821409</td>\n",
       "      <td>30718.0</td>\n",
       "      <td>123410.75</td>\n",
       "      <td>271370.0</td>\n",
       "      <td>488371.0</td>\n",
       "      <td>1364788.0</td>\n",
       "    </tr>\n",
       "    <tr>\n",
       "      <th rowspan=\"2\" valign=\"top\">U</th>\n",
       "      <th>N</th>\n",
       "      <td>776.0</td>\n",
       "      <td>1.232973e+06</td>\n",
       "      <td>44195.491997</td>\n",
       "      <td>1079511.0</td>\n",
       "      <td>1206571.75</td>\n",
       "      <td>1236282.5</td>\n",
       "      <td>1252973.75</td>\n",
       "      <td>1334802.0</td>\n",
       "      <td>139.0</td>\n",
       "      <td>43.690647</td>\n",
       "      <td>...</td>\n",
       "      <td>2916736.0</td>\n",
       "      <td>8889885.0</td>\n",
       "      <td>776.0</td>\n",
       "      <td>447517.460052</td>\n",
       "      <td>402915.342569</td>\n",
       "      <td>13876.0</td>\n",
       "      <td>172826.00</td>\n",
       "      <td>294439.0</td>\n",
       "      <td>488371.0</td>\n",
       "      <td>1364788.0</td>\n",
       "    </tr>\n",
       "    <tr>\n",
       "      <th>Y</th>\n",
       "      <td>9.0</td>\n",
       "      <td>1.252164e+06</td>\n",
       "      <td>57306.534051</td>\n",
       "      <td>1157515.0</td>\n",
       "      <td>1227927.00</td>\n",
       "      <td>1276508.0</td>\n",
       "      <td>1284660.00</td>\n",
       "      <td>1322556.0</td>\n",
       "      <td>0.0</td>\n",
       "      <td>NaN</td>\n",
       "      <td>...</td>\n",
       "      <td>2916736.0</td>\n",
       "      <td>8889885.0</td>\n",
       "      <td>9.0</td>\n",
       "      <td>513709.888889</td>\n",
       "      <td>370697.081215</td>\n",
       "      <td>148384.0</td>\n",
       "      <td>294439.00</td>\n",
       "      <td>379978.0</td>\n",
       "      <td>488371.0</td>\n",
       "      <td>1364788.0</td>\n",
       "    </tr>\n",
       "    <tr>\n",
       "      <th rowspan=\"6\" valign=\"top\">COVID19 (COVID19 (MODERNA))</th>\n",
       "      <th rowspan=\"2\" valign=\"top\">F</th>\n",
       "      <th>N</th>\n",
       "      <td>78703.0</td>\n",
       "      <td>1.049802e+06</td>\n",
       "      <td>86506.624859</td>\n",
       "      <td>916600.0</td>\n",
       "      <td>979523.50</td>\n",
       "      <td>1041119.0</td>\n",
       "      <td>1109667.50</td>\n",
       "      <td>1336300.0</td>\n",
       "      <td>77794.0</td>\n",
       "      <td>51.384207</td>\n",
       "      <td>...</td>\n",
       "      <td>4252912.0</td>\n",
       "      <td>8889885.0</td>\n",
       "      <td>78703.0</td>\n",
       "      <td>442376.865011</td>\n",
       "      <td>406071.670767</td>\n",
       "      <td>13876.0</td>\n",
       "      <td>172826.00</td>\n",
       "      <td>275624.0</td>\n",
       "      <td>821315.0</td>\n",
       "      <td>1364788.0</td>\n",
       "    </tr>\n",
       "    <tr>\n",
       "      <th>Y</th>\n",
       "      <td>717.0</td>\n",
       "      <td>1.131367e+06</td>\n",
       "      <td>108760.812173</td>\n",
       "      <td>917790.0</td>\n",
       "      <td>1047183.00</td>\n",
       "      <td>1123247.0</td>\n",
       "      <td>1221127.00</td>\n",
       "      <td>1334886.0</td>\n",
       "      <td>702.0</td>\n",
       "      <td>74.646724</td>\n",
       "      <td>...</td>\n",
       "      <td>2707626.0</td>\n",
       "      <td>8889885.0</td>\n",
       "      <td>717.0</td>\n",
       "      <td>371772.479777</td>\n",
       "      <td>372868.303271</td>\n",
       "      <td>13876.0</td>\n",
       "      <td>143687.00</td>\n",
       "      <td>241901.0</td>\n",
       "      <td>399161.0</td>\n",
       "      <td>1364788.0</td>\n",
       "    </tr>\n",
       "    <tr>\n",
       "      <th rowspan=\"2\" valign=\"top\">M</th>\n",
       "      <th>N</th>\n",
       "      <td>22399.0</td>\n",
       "      <td>1.073293e+06</td>\n",
       "      <td>93489.670580</td>\n",
       "      <td>916607.0</td>\n",
       "      <td>998746.00</td>\n",
       "      <td>1071667.0</td>\n",
       "      <td>1134878.00</td>\n",
       "      <td>1336299.0</td>\n",
       "      <td>21957.0</td>\n",
       "      <td>54.267978</td>\n",
       "      <td>...</td>\n",
       "      <td>4252912.0</td>\n",
       "      <td>8889885.0</td>\n",
       "      <td>22399.0</td>\n",
       "      <td>444705.146301</td>\n",
       "      <td>412008.834603</td>\n",
       "      <td>13876.0</td>\n",
       "      <td>172826.00</td>\n",
       "      <td>275624.0</td>\n",
       "      <td>821315.0</td>\n",
       "      <td>1364788.0</td>\n",
       "    </tr>\n",
       "    <tr>\n",
       "      <th>Y</th>\n",
       "      <td>884.0</td>\n",
       "      <td>1.119813e+06</td>\n",
       "      <td>109591.240981</td>\n",
       "      <td>917117.0</td>\n",
       "      <td>1033084.50</td>\n",
       "      <td>1106759.0</td>\n",
       "      <td>1209996.25</td>\n",
       "      <td>1336138.0</td>\n",
       "      <td>864.0</td>\n",
       "      <td>72.920139</td>\n",
       "      <td>...</td>\n",
       "      <td>2707626.0</td>\n",
       "      <td>8889885.0</td>\n",
       "      <td>884.0</td>\n",
       "      <td>400422.264706</td>\n",
       "      <td>389585.792631</td>\n",
       "      <td>13876.0</td>\n",
       "      <td>143687.00</td>\n",
       "      <td>241901.0</td>\n",
       "      <td>399161.0</td>\n",
       "      <td>1364788.0</td>\n",
       "    </tr>\n",
       "    <tr>\n",
       "      <th rowspan=\"2\" valign=\"top\">U</th>\n",
       "      <th>N</th>\n",
       "      <td>2448.0</td>\n",
       "      <td>9.904073e+05</td>\n",
       "      <td>58759.533722</td>\n",
       "      <td>917000.0</td>\n",
       "      <td>963865.75</td>\n",
       "      <td>975137.5</td>\n",
       "      <td>980473.25</td>\n",
       "      <td>1326544.0</td>\n",
       "      <td>353.0</td>\n",
       "      <td>48.691218</td>\n",
       "      <td>...</td>\n",
       "      <td>8889885.0</td>\n",
       "      <td>8889885.0</td>\n",
       "      <td>2448.0</td>\n",
       "      <td>952681.713235</td>\n",
       "      <td>551135.857376</td>\n",
       "      <td>19741.0</td>\n",
       "      <td>301455.00</td>\n",
       "      <td>1364788.0</td>\n",
       "      <td>1364788.0</td>\n",
       "      <td>1364788.0</td>\n",
       "    </tr>\n",
       "    <tr>\n",
       "      <th>Y</th>\n",
       "      <td>13.0</td>\n",
       "      <td>1.177837e+06</td>\n",
       "      <td>84996.902564</td>\n",
       "      <td>1034985.0</td>\n",
       "      <td>1114894.00</td>\n",
       "      <td>1169011.0</td>\n",
       "      <td>1249697.00</td>\n",
       "      <td>1305027.0</td>\n",
       "      <td>4.0</td>\n",
       "      <td>55.250000</td>\n",
       "      <td>...</td>\n",
       "      <td>4252912.0</td>\n",
       "      <td>8889885.0</td>\n",
       "      <td>13.0</td>\n",
       "      <td>491334.384615</td>\n",
       "      <td>457921.377818</td>\n",
       "      <td>67800.0</td>\n",
       "      <td>150436.00</td>\n",
       "      <td>294439.0</td>\n",
       "      <td>821315.0</td>\n",
       "      <td>1364788.0</td>\n",
       "    </tr>\n",
       "    <tr>\n",
       "      <th rowspan=\"6\" valign=\"top\">COVID19 (COVID19 (PFIZER-BIONTECH))</th>\n",
       "      <th rowspan=\"2\" valign=\"top\">F</th>\n",
       "      <th>N</th>\n",
       "      <td>58066.0</td>\n",
       "      <td>1.062026e+06</td>\n",
       "      <td>102979.767030</td>\n",
       "      <td>916602.0</td>\n",
       "      <td>973344.25</td>\n",
       "      <td>1052066.5</td>\n",
       "      <td>1131972.00</td>\n",
       "      <td>1335965.0</td>\n",
       "      <td>56026.0</td>\n",
       "      <td>49.835576</td>\n",
       "      <td>...</td>\n",
       "      <td>2916736.0</td>\n",
       "      <td>8889885.0</td>\n",
       "      <td>58066.0</td>\n",
       "      <td>431318.607051</td>\n",
       "      <td>406108.244378</td>\n",
       "      <td>13876.0</td>\n",
       "      <td>172826.00</td>\n",
       "      <td>275624.0</td>\n",
       "      <td>488371.0</td>\n",
       "      <td>1364788.0</td>\n",
       "    </tr>\n",
       "    <tr>\n",
       "      <th>Y</th>\n",
       "      <td>644.0</td>\n",
       "      <td>1.121502e+06</td>\n",
       "      <td>115519.792431</td>\n",
       "      <td>918388.0</td>\n",
       "      <td>1022397.00</td>\n",
       "      <td>1104279.5</td>\n",
       "      <td>1224887.75</td>\n",
       "      <td>1333650.0</td>\n",
       "      <td>616.0</td>\n",
       "      <td>75.766234</td>\n",
       "      <td>...</td>\n",
       "      <td>2707626.0</td>\n",
       "      <td>8889885.0</td>\n",
       "      <td>644.0</td>\n",
       "      <td>383799.413043</td>\n",
       "      <td>377946.324380</td>\n",
       "      <td>19741.0</td>\n",
       "      <td>143687.00</td>\n",
       "      <td>241901.0</td>\n",
       "      <td>399161.0</td>\n",
       "      <td>1364788.0</td>\n",
       "    </tr>\n",
       "    <tr>\n",
       "      <th rowspan=\"2\" valign=\"top\">M</th>\n",
       "      <th>N</th>\n",
       "      <td>19981.0</td>\n",
       "      <td>1.092863e+06</td>\n",
       "      <td>109108.410024</td>\n",
       "      <td>916638.0</td>\n",
       "      <td>1003410.00</td>\n",
       "      <td>1088654.0</td>\n",
       "      <td>1156528.00</td>\n",
       "      <td>1335964.0</td>\n",
       "      <td>18968.0</td>\n",
       "      <td>52.232602</td>\n",
       "      <td>...</td>\n",
       "      <td>2916736.0</td>\n",
       "      <td>8889885.0</td>\n",
       "      <td>19981.0</td>\n",
       "      <td>443926.347430</td>\n",
       "      <td>409479.582421</td>\n",
       "      <td>13876.0</td>\n",
       "      <td>172826.00</td>\n",
       "      <td>275624.0</td>\n",
       "      <td>488371.0</td>\n",
       "      <td>1364788.0</td>\n",
       "    </tr>\n",
       "    <tr>\n",
       "      <th>Y</th>\n",
       "      <td>676.0</td>\n",
       "      <td>1.126505e+06</td>\n",
       "      <td>116998.035568</td>\n",
       "      <td>918418.0</td>\n",
       "      <td>1033622.50</td>\n",
       "      <td>1121337.0</td>\n",
       "      <td>1228763.00</td>\n",
       "      <td>1334696.0</td>\n",
       "      <td>652.0</td>\n",
       "      <td>72.317485</td>\n",
       "      <td>...</td>\n",
       "      <td>2916736.0</td>\n",
       "      <td>8889885.0</td>\n",
       "      <td>676.0</td>\n",
       "      <td>416616.113905</td>\n",
       "      <td>395767.357377</td>\n",
       "      <td>13876.0</td>\n",
       "      <td>143687.00</td>\n",
       "      <td>294439.0</td>\n",
       "      <td>488371.0</td>\n",
       "      <td>1364788.0</td>\n",
       "    </tr>\n",
       "    <tr>\n",
       "      <th rowspan=\"2\" valign=\"top\">U</th>\n",
       "      <th>N</th>\n",
       "      <td>848.0</td>\n",
       "      <td>1.073530e+06</td>\n",
       "      <td>123007.204253</td>\n",
       "      <td>917480.0</td>\n",
       "      <td>973582.75</td>\n",
       "      <td>1038352.5</td>\n",
       "      <td>1162477.75</td>\n",
       "      <td>1332800.0</td>\n",
       "      <td>294.0</td>\n",
       "      <td>51.496599</td>\n",
       "      <td>...</td>\n",
       "      <td>2916736.0</td>\n",
       "      <td>8889885.0</td>\n",
       "      <td>848.0</td>\n",
       "      <td>430533.792453</td>\n",
       "      <td>382422.907399</td>\n",
       "      <td>19741.0</td>\n",
       "      <td>172826.00</td>\n",
       "      <td>294439.0</td>\n",
       "      <td>488371.0</td>\n",
       "      <td>1364788.0</td>\n",
       "    </tr>\n",
       "    <tr>\n",
       "      <th>Y</th>\n",
       "      <td>34.0</td>\n",
       "      <td>1.117797e+06</td>\n",
       "      <td>126013.404686</td>\n",
       "      <td>955879.0</td>\n",
       "      <td>982612.75</td>\n",
       "      <td>1113003.0</td>\n",
       "      <td>1221982.50</td>\n",
       "      <td>1309628.0</td>\n",
       "      <td>12.0</td>\n",
       "      <td>76.083333</td>\n",
       "      <td>...</td>\n",
       "      <td>2707626.0</td>\n",
       "      <td>8889885.0</td>\n",
       "      <td>34.0</td>\n",
       "      <td>384550.970588</td>\n",
       "      <td>266349.100258</td>\n",
       "      <td>30072.0</td>\n",
       "      <td>196826.00</td>\n",
       "      <td>379978.0</td>\n",
       "      <td>399161.0</td>\n",
       "      <td>1364788.0</td>\n",
       "    </tr>\n",
       "  </tbody>\n",
       "</table>\n",
       "<p>18 rows × 200 columns</p>\n",
       "</div>"
      ],
      "text/plain": [
       "                                             VAERS_ID                \\\n",
       "                                                count          mean   \n",
       "VAX_NAME                            SEX DIED                          \n",
       "COVID19 (COVID19 (JANSSEN))         F   N     18822.0  1.201053e+06   \n",
       "                                        Y       125.0  1.223048e+06   \n",
       "                                    M   N      9026.0  1.210359e+06   \n",
       "                                        Y       144.0  1.221445e+06   \n",
       "                                    U   N       776.0  1.232973e+06   \n",
       "                                        Y         9.0  1.252164e+06   \n",
       "COVID19 (COVID19 (MODERNA))         F   N     78703.0  1.049802e+06   \n",
       "                                        Y       717.0  1.131367e+06   \n",
       "                                    M   N     22399.0  1.073293e+06   \n",
       "                                        Y       884.0  1.119813e+06   \n",
       "                                    U   N      2448.0  9.904073e+05   \n",
       "                                        Y        13.0  1.177837e+06   \n",
       "COVID19 (COVID19 (PFIZER-BIONTECH)) F   N     58066.0  1.062026e+06   \n",
       "                                        Y       644.0  1.121502e+06   \n",
       "                                    M   N     19981.0  1.092863e+06   \n",
       "                                        Y       676.0  1.126505e+06   \n",
       "                                    U   N       848.0  1.073530e+06   \n",
       "                                        Y        34.0  1.117797e+06   \n",
       "\n",
       "                                                                        \\\n",
       "                                                        std        min   \n",
       "VAX_NAME                            SEX DIED                             \n",
       "COVID19 (COVID19 (JANSSEN))         F   N      62782.191144  1070055.0   \n",
       "                                        Y      56462.845020  1102815.0   \n",
       "                                    M   N      65291.712639  1070546.0   \n",
       "                                        Y      56885.766601  1093939.0   \n",
       "                                    U   N      44195.491997  1079511.0   \n",
       "                                        Y      57306.534051  1157515.0   \n",
       "COVID19 (COVID19 (MODERNA))         F   N      86506.624859   916600.0   \n",
       "                                        Y     108760.812173   917790.0   \n",
       "                                    M   N      93489.670580   916607.0   \n",
       "                                        Y     109591.240981   917117.0   \n",
       "                                    U   N      58759.533722   917000.0   \n",
       "                                        Y      84996.902564  1034985.0   \n",
       "COVID19 (COVID19 (PFIZER-BIONTECH)) F   N     102979.767030   916602.0   \n",
       "                                        Y     115519.792431   918388.0   \n",
       "                                    M   N     109108.410024   916638.0   \n",
       "                                        Y     116998.035568   918418.0   \n",
       "                                    U   N     123007.204253   917480.0   \n",
       "                                        Y     126013.404686   955879.0   \n",
       "\n",
       "                                                                     \\\n",
       "                                                     25%        50%   \n",
       "VAX_NAME                            SEX DIED                          \n",
       "COVID19 (COVID19 (JANSSEN))         F   N     1164765.50  1203012.0   \n",
       "                                        Y     1188040.00  1223378.0   \n",
       "                                    M   N     1174001.00  1205819.0   \n",
       "                                        Y     1200988.50  1215401.0   \n",
       "                                    U   N     1206571.75  1236282.5   \n",
       "                                        Y     1227927.00  1276508.0   \n",
       "COVID19 (COVID19 (MODERNA))         F   N      979523.50  1041119.0   \n",
       "                                        Y     1047183.00  1123247.0   \n",
       "                                    M   N      998746.00  1071667.0   \n",
       "                                        Y     1033084.50  1106759.0   \n",
       "                                    U   N      963865.75   975137.5   \n",
       "                                        Y     1114894.00  1169011.0   \n",
       "COVID19 (COVID19 (PFIZER-BIONTECH)) F   N      973344.25  1052066.5   \n",
       "                                        Y     1022397.00  1104279.5   \n",
       "                                    M   N     1003410.00  1088654.0   \n",
       "                                        Y     1033622.50  1121337.0   \n",
       "                                    U   N      973582.75  1038352.5   \n",
       "                                        Y      982612.75  1113003.0   \n",
       "\n",
       "                                                                     AGE_YRS  \\\n",
       "                                                     75%        max    count   \n",
       "VAX_NAME                            SEX DIED                                   \n",
       "COVID19 (COVID19 (JANSSEN))         F   N     1241220.00  1336292.0  16950.0   \n",
       "                                        Y     1266405.00  1331099.0    111.0   \n",
       "                                    M   N     1253909.75  1336295.0   8155.0   \n",
       "                                        Y     1259290.25  1336097.0    131.0   \n",
       "                                    U   N     1252973.75  1334802.0    139.0   \n",
       "                                        Y     1284660.00  1322556.0      0.0   \n",
       "COVID19 (COVID19 (MODERNA))         F   N     1109667.50  1336300.0  77794.0   \n",
       "                                        Y     1221127.00  1334886.0    702.0   \n",
       "                                    M   N     1134878.00  1336299.0  21957.0   \n",
       "                                        Y     1209996.25  1336138.0    864.0   \n",
       "                                    U   N      980473.25  1326544.0    353.0   \n",
       "                                        Y     1249697.00  1305027.0      4.0   \n",
       "COVID19 (COVID19 (PFIZER-BIONTECH)) F   N     1131972.00  1335965.0  56026.0   \n",
       "                                        Y     1224887.75  1333650.0    616.0   \n",
       "                                    M   N     1156528.00  1335964.0  18968.0   \n",
       "                                        Y     1228763.00  1334696.0    652.0   \n",
       "                                    U   N     1162477.75  1332800.0    294.0   \n",
       "                                        Y     1221982.50  1309628.0     12.0   \n",
       "\n",
       "                                                         ...  \\\n",
       "                                                   mean  ...   \n",
       "VAX_NAME                            SEX DIED             ...   \n",
       "COVID19 (COVID19 (JANSSEN))         F   N     45.245841  ...   \n",
       "                                        Y     68.270270  ...   \n",
       "                                    M   N     43.451502  ...   \n",
       "                                        Y     63.847328  ...   \n",
       "                                    U   N     43.690647  ...   \n",
       "                                        Y           NaN  ...   \n",
       "COVID19 (COVID19 (MODERNA))         F   N     51.384207  ...   \n",
       "                                        Y     74.646724  ...   \n",
       "                                    M   N     54.267978  ...   \n",
       "                                        Y     72.920139  ...   \n",
       "                                    U   N     48.691218  ...   \n",
       "                                        Y     55.250000  ...   \n",
       "COVID19 (COVID19 (PFIZER-BIONTECH)) F   N     49.835576  ...   \n",
       "                                        Y     75.766234  ...   \n",
       "                                    M   N     52.232602  ...   \n",
       "                                        Y     72.317485  ...   \n",
       "                                    U   N     51.496599  ...   \n",
       "                                        Y     76.083333  ...   \n",
       "\n",
       "                                             People 12+ Fully Vaccinated_Pfizer_Resident  \\\n",
       "                                                                                     75%   \n",
       "VAX_NAME                            SEX DIED                                               \n",
       "COVID19 (COVID19 (JANSSEN))         F   N                                      2916736.0   \n",
       "                                        Y                                      2916736.0   \n",
       "                                    M   N                                      4252912.0   \n",
       "                                        Y                                      2916736.0   \n",
       "                                    U   N                                      2916736.0   \n",
       "                                        Y                                      2916736.0   \n",
       "COVID19 (COVID19 (MODERNA))         F   N                                      4252912.0   \n",
       "                                        Y                                      2707626.0   \n",
       "                                    M   N                                      4252912.0   \n",
       "                                        Y                                      2707626.0   \n",
       "                                    U   N                                      8889885.0   \n",
       "                                        Y                                      4252912.0   \n",
       "COVID19 (COVID19 (PFIZER-BIONTECH)) F   N                                      2916736.0   \n",
       "                                        Y                                      2707626.0   \n",
       "                                    M   N                                      2916736.0   \n",
       "                                        Y                                      2916736.0   \n",
       "                                    U   N                                      2916736.0   \n",
       "                                        Y                                      2707626.0   \n",
       "\n",
       "                                                         \\\n",
       "                                                    max   \n",
       "VAX_NAME                            SEX DIED              \n",
       "COVID19 (COVID19 (JANSSEN))         F   N     8889885.0   \n",
       "                                        Y     8889885.0   \n",
       "                                    M   N     8889885.0   \n",
       "                                        Y     8889885.0   \n",
       "                                    U   N     8889885.0   \n",
       "                                        Y     8889885.0   \n",
       "COVID19 (COVID19 (MODERNA))         F   N     8889885.0   \n",
       "                                        Y     8889885.0   \n",
       "                                    M   N     8889885.0   \n",
       "                                        Y     8889885.0   \n",
       "                                    U   N     8889885.0   \n",
       "                                        Y     8889885.0   \n",
       "COVID19 (COVID19 (PFIZER-BIONTECH)) F   N     8889885.0   \n",
       "                                        Y     8889885.0   \n",
       "                                    M   N     8889885.0   \n",
       "                                        Y     8889885.0   \n",
       "                                    U   N     8889885.0   \n",
       "                                        Y     8889885.0   \n",
       "\n",
       "                                             People 12+ Fully Vaccinated_Janssen_Resident  \\\n",
       "                                                                                    count   \n",
       "VAX_NAME                            SEX DIED                                                \n",
       "COVID19 (COVID19 (JANSSEN))         F   N                                         18822.0   \n",
       "                                        Y                                           125.0   \n",
       "                                    M   N                                          9026.0   \n",
       "                                        Y                                           144.0   \n",
       "                                    U   N                                           776.0   \n",
       "                                        Y                                             9.0   \n",
       "COVID19 (COVID19 (MODERNA))         F   N                                         78703.0   \n",
       "                                        Y                                           717.0   \n",
       "                                    M   N                                         22399.0   \n",
       "                                        Y                                           884.0   \n",
       "                                    U   N                                          2448.0   \n",
       "                                        Y                                            13.0   \n",
       "COVID19 (COVID19 (PFIZER-BIONTECH)) F   N                                         58066.0   \n",
       "                                        Y                                           644.0   \n",
       "                                    M   N                                         19981.0   \n",
       "                                        Y                                           676.0   \n",
       "                                    U   N                                           848.0   \n",
       "                                        Y                                            34.0   \n",
       "\n",
       "                                                                            \\\n",
       "                                                       mean            std   \n",
       "VAX_NAME                            SEX DIED                                 \n",
       "COVID19 (COVID19 (JANSSEN))         F   N     444843.450271  398902.054521   \n",
       "                                        Y     412800.896000  370305.253904   \n",
       "                                    M   N     451531.233215  404993.222617   \n",
       "                                        Y     411557.055556  411381.821409   \n",
       "                                    U   N     447517.460052  402915.342569   \n",
       "                                        Y     513709.888889  370697.081215   \n",
       "COVID19 (COVID19 (MODERNA))         F   N     442376.865011  406071.670767   \n",
       "                                        Y     371772.479777  372868.303271   \n",
       "                                    M   N     444705.146301  412008.834603   \n",
       "                                        Y     400422.264706  389585.792631   \n",
       "                                    U   N     952681.713235  551135.857376   \n",
       "                                        Y     491334.384615  457921.377818   \n",
       "COVID19 (COVID19 (PFIZER-BIONTECH)) F   N     431318.607051  406108.244378   \n",
       "                                        Y     383799.413043  377946.324380   \n",
       "                                    M   N     443926.347430  409479.582421   \n",
       "                                        Y     416616.113905  395767.357377   \n",
       "                                    U   N     430533.792453  382422.907399   \n",
       "                                        Y     384550.970588  266349.100258   \n",
       "\n",
       "                                                                              \\\n",
       "                                                   min        25%        50%   \n",
       "VAX_NAME                            SEX DIED                                   \n",
       "COVID19 (COVID19 (JANSSEN))         F   N      13876.0  172826.00   294439.0   \n",
       "                                        Y      19741.0  143687.00   294439.0   \n",
       "                                    M   N      13876.0  172826.00   294439.0   \n",
       "                                        Y      30718.0  123410.75   271370.0   \n",
       "                                    U   N      13876.0  172826.00   294439.0   \n",
       "                                        Y     148384.0  294439.00   379978.0   \n",
       "COVID19 (COVID19 (MODERNA))         F   N      13876.0  172826.00   275624.0   \n",
       "                                        Y      13876.0  143687.00   241901.0   \n",
       "                                    M   N      13876.0  172826.00   275624.0   \n",
       "                                        Y      13876.0  143687.00   241901.0   \n",
       "                                    U   N      19741.0  301455.00  1364788.0   \n",
       "                                        Y      67800.0  150436.00   294439.0   \n",
       "COVID19 (COVID19 (PFIZER-BIONTECH)) F   N      13876.0  172826.00   275624.0   \n",
       "                                        Y      19741.0  143687.00   241901.0   \n",
       "                                    M   N      13876.0  172826.00   275624.0   \n",
       "                                        Y      13876.0  143687.00   294439.0   \n",
       "                                    U   N      19741.0  172826.00   294439.0   \n",
       "                                        Y      30072.0  196826.00   379978.0   \n",
       "\n",
       "                                                                    \n",
       "                                                    75%        max  \n",
       "VAX_NAME                            SEX DIED                        \n",
       "COVID19 (COVID19 (JANSSEN))         F   N      488371.0  1364788.0  \n",
       "                                        Y      488371.0  1364788.0  \n",
       "                                    M   N      821315.0  1364788.0  \n",
       "                                        Y      488371.0  1364788.0  \n",
       "                                    U   N      488371.0  1364788.0  \n",
       "                                        Y      488371.0  1364788.0  \n",
       "COVID19 (COVID19 (MODERNA))         F   N      821315.0  1364788.0  \n",
       "                                        Y      399161.0  1364788.0  \n",
       "                                    M   N      821315.0  1364788.0  \n",
       "                                        Y      399161.0  1364788.0  \n",
       "                                    U   N     1364788.0  1364788.0  \n",
       "                                        Y      821315.0  1364788.0  \n",
       "COVID19 (COVID19 (PFIZER-BIONTECH)) F   N      488371.0  1364788.0  \n",
       "                                        Y      399161.0  1364788.0  \n",
       "                                    M   N      488371.0  1364788.0  \n",
       "                                        Y      488371.0  1364788.0  \n",
       "                                    U   N      488371.0  1364788.0  \n",
       "                                        Y      399161.0  1364788.0  \n",
       "\n",
       "[18 rows x 200 columns]"
      ]
     },
     "execution_count": 22,
     "metadata": {},
     "output_type": "execute_result"
    }
   ],
   "source": [
    "df_merge.groupby(['VAX_NAME','SEX','DIED']).describe()"
   ]
  },
  {
   "cell_type": "code",
   "execution_count": 23,
   "metadata": {},
   "outputs": [],
   "source": [
    "death = pd.DataFrame(df_merge.groupby(['VAX_NAME','SEX','DIED'])['DIED'].count())"
   ]
  },
  {
   "cell_type": "code",
   "execution_count": 24,
   "metadata": {},
   "outputs": [],
   "source": [
    "j_f_death = death['DIED'][1]\n",
    "j_m_death = death['DIED'][3]\n",
    "\n",
    "m_f_death = death['DIED'][7]\n",
    "m_m_death = death['DIED'][9]\n",
    "\n",
    "p_f_death = death['DIED'][13]\n",
    "p_m_death = death['DIED'][15]"
   ]
  },
  {
   "cell_type": "code",
   "execution_count": 25,
   "metadata": {},
   "outputs": [
    {
     "data": {
      "text/html": [
       "<div>\n",
       "<style scoped>\n",
       "    .dataframe tbody tr th:only-of-type {\n",
       "        vertical-align: middle;\n",
       "    }\n",
       "\n",
       "    .dataframe tbody tr th {\n",
       "        vertical-align: top;\n",
       "    }\n",
       "\n",
       "    .dataframe thead th {\n",
       "        text-align: right;\n",
       "    }\n",
       "</style>\n",
       "<table border=\"1\" class=\"dataframe\">\n",
       "  <thead>\n",
       "    <tr style=\"text-align: right;\">\n",
       "      <th></th>\n",
       "      <th></th>\n",
       "      <th></th>\n",
       "      <th>DIED</th>\n",
       "    </tr>\n",
       "    <tr>\n",
       "      <th>VAX_NAME</th>\n",
       "      <th>SEX</th>\n",
       "      <th>DIED</th>\n",
       "      <th></th>\n",
       "    </tr>\n",
       "  </thead>\n",
       "  <tbody>\n",
       "    <tr>\n",
       "      <th rowspan=\"6\" valign=\"top\">COVID19 (COVID19 (JANSSEN))</th>\n",
       "      <th rowspan=\"2\" valign=\"top\">F</th>\n",
       "      <th>N</th>\n",
       "      <td>18822</td>\n",
       "    </tr>\n",
       "    <tr>\n",
       "      <th>Y</th>\n",
       "      <td>125</td>\n",
       "    </tr>\n",
       "    <tr>\n",
       "      <th rowspan=\"2\" valign=\"top\">M</th>\n",
       "      <th>N</th>\n",
       "      <td>9026</td>\n",
       "    </tr>\n",
       "    <tr>\n",
       "      <th>Y</th>\n",
       "      <td>144</td>\n",
       "    </tr>\n",
       "    <tr>\n",
       "      <th rowspan=\"2\" valign=\"top\">U</th>\n",
       "      <th>N</th>\n",
       "      <td>776</td>\n",
       "    </tr>\n",
       "    <tr>\n",
       "      <th>Y</th>\n",
       "      <td>9</td>\n",
       "    </tr>\n",
       "    <tr>\n",
       "      <th rowspan=\"6\" valign=\"top\">COVID19 (COVID19 (MODERNA))</th>\n",
       "      <th rowspan=\"2\" valign=\"top\">F</th>\n",
       "      <th>N</th>\n",
       "      <td>78703</td>\n",
       "    </tr>\n",
       "    <tr>\n",
       "      <th>Y</th>\n",
       "      <td>717</td>\n",
       "    </tr>\n",
       "    <tr>\n",
       "      <th rowspan=\"2\" valign=\"top\">M</th>\n",
       "      <th>N</th>\n",
       "      <td>22399</td>\n",
       "    </tr>\n",
       "    <tr>\n",
       "      <th>Y</th>\n",
       "      <td>884</td>\n",
       "    </tr>\n",
       "    <tr>\n",
       "      <th rowspan=\"2\" valign=\"top\">U</th>\n",
       "      <th>N</th>\n",
       "      <td>2448</td>\n",
       "    </tr>\n",
       "    <tr>\n",
       "      <th>Y</th>\n",
       "      <td>13</td>\n",
       "    </tr>\n",
       "    <tr>\n",
       "      <th rowspan=\"6\" valign=\"top\">COVID19 (COVID19 (PFIZER-BIONTECH))</th>\n",
       "      <th rowspan=\"2\" valign=\"top\">F</th>\n",
       "      <th>N</th>\n",
       "      <td>58066</td>\n",
       "    </tr>\n",
       "    <tr>\n",
       "      <th>Y</th>\n",
       "      <td>644</td>\n",
       "    </tr>\n",
       "    <tr>\n",
       "      <th rowspan=\"2\" valign=\"top\">M</th>\n",
       "      <th>N</th>\n",
       "      <td>19981</td>\n",
       "    </tr>\n",
       "    <tr>\n",
       "      <th>Y</th>\n",
       "      <td>676</td>\n",
       "    </tr>\n",
       "    <tr>\n",
       "      <th rowspan=\"2\" valign=\"top\">U</th>\n",
       "      <th>N</th>\n",
       "      <td>848</td>\n",
       "    </tr>\n",
       "    <tr>\n",
       "      <th>Y</th>\n",
       "      <td>34</td>\n",
       "    </tr>\n",
       "  </tbody>\n",
       "</table>\n",
       "</div>"
      ],
      "text/plain": [
       "                                               DIED\n",
       "VAX_NAME                            SEX DIED       \n",
       "COVID19 (COVID19 (JANSSEN))         F   N     18822\n",
       "                                        Y       125\n",
       "                                    M   N      9026\n",
       "                                        Y       144\n",
       "                                    U   N       776\n",
       "                                        Y         9\n",
       "COVID19 (COVID19 (MODERNA))         F   N     78703\n",
       "                                        Y       717\n",
       "                                    M   N     22399\n",
       "                                        Y       884\n",
       "                                    U   N      2448\n",
       "                                        Y        13\n",
       "COVID19 (COVID19 (PFIZER-BIONTECH)) F   N     58066\n",
       "                                        Y       644\n",
       "                                    M   N     19981\n",
       "                                        Y       676\n",
       "                                    U   N       848\n",
       "                                        Y        34"
      ]
     },
     "execution_count": 25,
     "metadata": {},
     "output_type": "execute_result"
    }
   ],
   "source": [
    "death.to_csv('../Resources/Images/DeathsbyVaxandSex.csv')\n",
    "death"
   ]
  },
  {
   "cell_type": "code",
   "execution_count": 26,
   "metadata": {},
   "outputs": [
    {
     "name": "stdout",
     "output_type": "stream",
     "text": [
      "1.4627128590033176e-05\n",
      "1.2697160234403798e-05\n",
      "1.728585383797676e-05\n",
      "1.4020313576730018e-05\n",
      "1.0483365333961094e-05\n",
      "9.987111353655244e-06\n"
     ]
    }
   ],
   "source": [
    "j_m_mortality_rate = j_m_death / j_total_vac\n",
    "print(j_m_mortality_rate)\n",
    "j_f_mortality_rate = j_f_death / j_total_vac\n",
    "print(j_f_mortality_rate)\n",
    "\n",
    "m_m_mortality_rate = m_m_death / m_total_vac\n",
    "print(m_m_mortality_rate)\n",
    "m_f_mortality_rate = m_f_death / m_total_vac\n",
    "print(m_f_mortality_rate)\n",
    "\n",
    "p_m_mortality_rate = p_m_death / p_total_vac\n",
    "print(p_m_mortality_rate)\n",
    "p_f_mortality_rate = p_f_death / p_total_vac\n",
    "print(p_f_mortality_rate)"
   ]
  },
  {
   "cell_type": "code",
   "execution_count": null,
   "metadata": {},
   "outputs": [],
   "source": []
  },
  {
   "cell_type": "code",
   "execution_count": 27,
   "metadata": {},
   "outputs": [],
   "source": [
    "mortality_df = pd.DataFrame({\n",
    "    'Vaccine Type': ['Janssen', 'Moderna', 'Pfizer'],\n",
    "    'Male': [j_m_mortality_rate, m_m_mortality_rate, p_m_mortality_rate],\n",
    "    'Female': [j_f_mortality_rate, m_f_mortality_rate ,p_f_mortality_rate]\n",
    "})"
   ]
  },
  {
   "cell_type": "code",
   "execution_count": null,
   "metadata": {},
   "outputs": [],
   "source": []
  },
  {
   "cell_type": "code",
   "execution_count": 28,
   "metadata": {},
   "outputs": [
    {
     "data": {
      "image/png": "[encoded data removed]",
      "text/plain": [
       "<Figure size 432x288 with 1 Axes>"
      ]
     },
     "metadata": {
      "needs_background": "light"
     },
     "output_type": "display_data"
    }
   ],
   "source": [
    "barplot2_data = mortality_df.groupby(['Vaccine Type']).sum()\n",
    "barplot2 = barplot2_data.plot.bar(title='Vaccine Type Bar Plot of Mortality Rates')\n",
    "barplot2.set_xlabel('Vaccine Type')\n",
    "barplot2.set_ylabel('Mortality Rate')\n",
    "barplot2.ticklabel_format(axis='y',style='plain')\n",
    "plt.xticks(rotation=30)\n",
    "fig = barplot2.get_figure()\n",
    "plt.savefig('../Resources/Images/VaccineMortalityBarplot.png')"
   ]
  },
  {
   "cell_type": "code",
   "execution_count": 29,
   "metadata": {},
   "outputs": [],
   "source": [
    "mortality_df.groupby(['Vaccine Type']).sum().to_csv('../Resources/Images/VaccineTypebySexDeath.csv')\n"
   ]
  },
  {
   "cell_type": "code",
   "execution_count": null,
   "metadata": {},
   "outputs": [],
   "source": []
  },
  {
   "cell_type": "code",
   "execution_count": 30,
   "metadata": {},
   "outputs": [],
   "source": [
    "m_deaths = (j_m_death + m_m_death + p_m_death) \n",
    "f_deaths = (j_f_death + m_f_death + p_f_death)"
   ]
  },
  {
   "cell_type": "code",
   "execution_count": 31,
   "metadata": {},
   "outputs": [
    {
     "data": {
      "text/html": [
       "<div>\n",
       "<style scoped>\n",
       "    .dataframe tbody tr th:only-of-type {\n",
       "        vertical-align: middle;\n",
       "    }\n",
       "\n",
       "    .dataframe tbody tr th {\n",
       "        vertical-align: top;\n",
       "    }\n",
       "\n",
       "    .dataframe thead th {\n",
       "        text-align: right;\n",
       "    }\n",
       "</style>\n",
       "<table border=\"1\" class=\"dataframe\">\n",
       "  <thead>\n",
       "    <tr style=\"text-align: right;\">\n",
       "      <th></th>\n",
       "      <th>M</th>\n",
       "      <th>F</th>\n",
       "    </tr>\n",
       "  </thead>\n",
       "  <tbody>\n",
       "    <tr>\n",
       "      <th>0</th>\n",
       "      <td>1704</td>\n",
       "      <td>1486</td>\n",
       "    </tr>\n",
       "  </tbody>\n",
       "</table>\n",
       "</div>"
      ],
      "text/plain": [
       "      M     F\n",
       "0  1704  1486"
      ]
     },
     "execution_count": 31,
     "metadata": {},
     "output_type": "execute_result"
    }
   ],
   "source": [
    "gender_deaths_df = pd.DataFrame({\n",
    "    'M': [m_deaths],\n",
    "    'F': [f_deaths]\n",
    "})\n",
    "gender_deaths_df"
   ]
  },
  {
   "cell_type": "code",
   "execution_count": 32,
   "metadata": {},
   "outputs": [
    {
     "data": {
      "image/png": "[encoded data removed]",
      "text/plain": [
       "<Figure size 432x432 with 1 Axes>"
      ]
     },
     "metadata": {},
     "output_type": "display_data"
    }
   ],
   "source": [
    "explode = (0.05, 0)\n",
    "y=gender_deaths_df.sum()\n",
    "y.plot(kind='pie', autopct= '%1.2f%%', figsize=(6,6), explode = explode, startangle = 120, fontsize = 12,\n",
    "       shadow=True, colors=[\"tomato\",'mediumseagreen'])\n",
    "plt.legend(y.index, fontsize=12)\n",
    "plt.title(\"Gender Mortality Pie Chart\")\n",
    "plt.savefig('../Resources/Images/MortalitybySex.png')\n",
    "plt.show()"
   ]
  },
  {
   "cell_type": "code",
   "execution_count": 33,
   "metadata": {},
   "outputs": [
    {
     "data": {
      "text/html": [
       "<div>\n",
       "<style scoped>\n",
       "    .dataframe tbody tr th:only-of-type {\n",
       "        vertical-align: middle;\n",
       "    }\n",
       "\n",
       "    .dataframe tbody tr th {\n",
       "        vertical-align: top;\n",
       "    }\n",
       "\n",
       "    .dataframe thead th {\n",
       "        text-align: right;\n",
       "    }\n",
       "</style>\n",
       "<table border=\"1\" class=\"dataframe\">\n",
       "  <thead>\n",
       "    <tr style=\"text-align: right;\">\n",
       "      <th></th>\n",
       "      <th>VAERS_ID</th>\n",
       "      <th>VAX_MANU</th>\n",
       "      <th>VAX_NAME</th>\n",
       "      <th>STATE</th>\n",
       "      <th>AGE_YRS</th>\n",
       "      <th>SEX</th>\n",
       "      <th>DIED</th>\n",
       "      <th>DATEDIED</th>\n",
       "      <th>ER_VISIT</th>\n",
       "      <th>HOSPITAL</th>\n",
       "      <th>...</th>\n",
       "      <th>People 65+ Fully Vaccinated by State of Residence</th>\n",
       "      <th>Percent of 65+ Pop Fully Vaccinated by State of Residence</th>\n",
       "      <th>People 65+ Fully Vaccinated_Moderna_Resident</th>\n",
       "      <th>People 65+ Fully Vaccinated_Pfizer_Resident</th>\n",
       "      <th>People 65+ Fully Vaccinated_Janssen_Resident</th>\n",
       "      <th>People 12+ Fully Vaccinated by State of Residence</th>\n",
       "      <th>Percent of 12+ Pop Fully Vaccinated by State of Residence</th>\n",
       "      <th>People 12+ Fully Vaccinated_Moderna_Resident</th>\n",
       "      <th>People 12+ Fully Vaccinated_Pfizer_Resident</th>\n",
       "      <th>People 12+ Fully Vaccinated_Janssen_Resident</th>\n",
       "    </tr>\n",
       "  </thead>\n",
       "  <tbody>\n",
       "    <tr>\n",
       "      <th>0</th>\n",
       "      <td>916600</td>\n",
       "      <td>MODERNA</td>\n",
       "      <td>COVID19 (COVID19 (MODERNA))</td>\n",
       "      <td>TX</td>\n",
       "      <td>33.0</td>\n",
       "      <td>F</td>\n",
       "      <td>N</td>\n",
       "      <td>NaN</td>\n",
       "      <td>NaN</td>\n",
       "      <td>NaN</td>\n",
       "      <td>...</td>\n",
       "      <td>2641680</td>\n",
       "      <td>70.7</td>\n",
       "      <td>1088510</td>\n",
       "      <td>1334324</td>\n",
       "      <td>218676</td>\n",
       "      <td>10455865</td>\n",
       "      <td>43.4</td>\n",
       "      <td>4308362</td>\n",
       "      <td>5281305</td>\n",
       "      <td>865528</td>\n",
       "    </tr>\n",
       "    <tr>\n",
       "      <th>1</th>\n",
       "      <td>916604</td>\n",
       "      <td>MODERNA</td>\n",
       "      <td>COVID19 (COVID19 (MODERNA))</td>\n",
       "      <td>TX</td>\n",
       "      <td>47.0</td>\n",
       "      <td>F</td>\n",
       "      <td>N</td>\n",
       "      <td>NaN</td>\n",
       "      <td>NaN</td>\n",
       "      <td>NaN</td>\n",
       "      <td>...</td>\n",
       "      <td>2641680</td>\n",
       "      <td>70.7</td>\n",
       "      <td>1088510</td>\n",
       "      <td>1334324</td>\n",
       "      <td>218676</td>\n",
       "      <td>10455865</td>\n",
       "      <td>43.4</td>\n",
       "      <td>4308362</td>\n",
       "      <td>5281305</td>\n",
       "      <td>865528</td>\n",
       "    </tr>\n",
       "    <tr>\n",
       "      <th>2</th>\n",
       "      <td>916702</td>\n",
       "      <td>MODERNA</td>\n",
       "      <td>COVID19 (COVID19 (MODERNA))</td>\n",
       "      <td>TX</td>\n",
       "      <td>70.0</td>\n",
       "      <td>F</td>\n",
       "      <td>N</td>\n",
       "      <td>NaN</td>\n",
       "      <td>NaN</td>\n",
       "      <td>NaN</td>\n",
       "      <td>...</td>\n",
       "      <td>2641680</td>\n",
       "      <td>70.7</td>\n",
       "      <td>1088510</td>\n",
       "      <td>1334324</td>\n",
       "      <td>218676</td>\n",
       "      <td>10455865</td>\n",
       "      <td>43.4</td>\n",
       "      <td>4308362</td>\n",
       "      <td>5281305</td>\n",
       "      <td>865528</td>\n",
       "    </tr>\n",
       "    <tr>\n",
       "      <th>3</th>\n",
       "      <td>916703</td>\n",
       "      <td>MODERNA</td>\n",
       "      <td>COVID19 (COVID19 (MODERNA))</td>\n",
       "      <td>TX</td>\n",
       "      <td>60.0</td>\n",
       "      <td>F</td>\n",
       "      <td>N</td>\n",
       "      <td>NaN</td>\n",
       "      <td>NaN</td>\n",
       "      <td>NaN</td>\n",
       "      <td>...</td>\n",
       "      <td>2641680</td>\n",
       "      <td>70.7</td>\n",
       "      <td>1088510</td>\n",
       "      <td>1334324</td>\n",
       "      <td>218676</td>\n",
       "      <td>10455865</td>\n",
       "      <td>43.4</td>\n",
       "      <td>4308362</td>\n",
       "      <td>5281305</td>\n",
       "      <td>865528</td>\n",
       "    </tr>\n",
       "    <tr>\n",
       "      <th>4</th>\n",
       "      <td>916704</td>\n",
       "      <td>MODERNA</td>\n",
       "      <td>COVID19 (COVID19 (MODERNA))</td>\n",
       "      <td>TX</td>\n",
       "      <td>35.0</td>\n",
       "      <td>F</td>\n",
       "      <td>N</td>\n",
       "      <td>NaN</td>\n",
       "      <td>NaN</td>\n",
       "      <td>NaN</td>\n",
       "      <td>...</td>\n",
       "      <td>2641680</td>\n",
       "      <td>70.7</td>\n",
       "      <td>1088510</td>\n",
       "      <td>1334324</td>\n",
       "      <td>218676</td>\n",
       "      <td>10455865</td>\n",
       "      <td>43.4</td>\n",
       "      <td>4308362</td>\n",
       "      <td>5281305</td>\n",
       "      <td>865528</td>\n",
       "    </tr>\n",
       "    <tr>\n",
       "      <th>...</th>\n",
       "      <td>...</td>\n",
       "      <td>...</td>\n",
       "      <td>...</td>\n",
       "      <td>...</td>\n",
       "      <td>...</td>\n",
       "      <td>...</td>\n",
       "      <td>...</td>\n",
       "      <td>...</td>\n",
       "      <td>...</td>\n",
       "      <td>...</td>\n",
       "      <td>...</td>\n",
       "      <td>...</td>\n",
       "      <td>...</td>\n",
       "      <td>...</td>\n",
       "      <td>...</td>\n",
       "      <td>...</td>\n",
       "      <td>...</td>\n",
       "      <td>...</td>\n",
       "      <td>...</td>\n",
       "      <td>...</td>\n",
       "      <td>...</td>\n",
       "    </tr>\n",
       "    <tr>\n",
       "      <th>214310</th>\n",
       "      <td>1307523</td>\n",
       "      <td>JANSSEN</td>\n",
       "      <td>COVID19 (COVID19 (JANSSEN))</td>\n",
       "      <td>WY</td>\n",
       "      <td>57.0</td>\n",
       "      <td>F</td>\n",
       "      <td>N</td>\n",
       "      <td>NaN</td>\n",
       "      <td>NaN</td>\n",
       "      <td>NaN</td>\n",
       "      <td>...</td>\n",
       "      <td>69539</td>\n",
       "      <td>70.1</td>\n",
       "      <td>36134</td>\n",
       "      <td>31068</td>\n",
       "      <td>2315</td>\n",
       "      <td>185985</td>\n",
       "      <td>37.9</td>\n",
       "      <td>86174</td>\n",
       "      <td>85884</td>\n",
       "      <td>13876</td>\n",
       "    </tr>\n",
       "    <tr>\n",
       "      <th>214311</th>\n",
       "      <td>1310081</td>\n",
       "      <td>JANSSEN</td>\n",
       "      <td>COVID19 (COVID19 (JANSSEN))</td>\n",
       "      <td>WY</td>\n",
       "      <td>37.0</td>\n",
       "      <td>F</td>\n",
       "      <td>N</td>\n",
       "      <td>NaN</td>\n",
       "      <td>NaN</td>\n",
       "      <td>NaN</td>\n",
       "      <td>...</td>\n",
       "      <td>69539</td>\n",
       "      <td>70.1</td>\n",
       "      <td>36134</td>\n",
       "      <td>31068</td>\n",
       "      <td>2315</td>\n",
       "      <td>185985</td>\n",
       "      <td>37.9</td>\n",
       "      <td>86174</td>\n",
       "      <td>85884</td>\n",
       "      <td>13876</td>\n",
       "    </tr>\n",
       "    <tr>\n",
       "      <th>214312</th>\n",
       "      <td>1317972</td>\n",
       "      <td>JANSSEN</td>\n",
       "      <td>COVID19 (COVID19 (JANSSEN))</td>\n",
       "      <td>WY</td>\n",
       "      <td>63.0</td>\n",
       "      <td>M</td>\n",
       "      <td>N</td>\n",
       "      <td>NaN</td>\n",
       "      <td>NaN</td>\n",
       "      <td>NaN</td>\n",
       "      <td>...</td>\n",
       "      <td>69539</td>\n",
       "      <td>70.1</td>\n",
       "      <td>36134</td>\n",
       "      <td>31068</td>\n",
       "      <td>2315</td>\n",
       "      <td>185985</td>\n",
       "      <td>37.9</td>\n",
       "      <td>86174</td>\n",
       "      <td>85884</td>\n",
       "      <td>13876</td>\n",
       "    </tr>\n",
       "    <tr>\n",
       "      <th>214313</th>\n",
       "      <td>1320334</td>\n",
       "      <td>PFIZER\\BIONTECH</td>\n",
       "      <td>COVID19 (COVID19 (PFIZER-BIONTECH))</td>\n",
       "      <td>WY</td>\n",
       "      <td>51.0</td>\n",
       "      <td>F</td>\n",
       "      <td>N</td>\n",
       "      <td>NaN</td>\n",
       "      <td>NaN</td>\n",
       "      <td>NaN</td>\n",
       "      <td>...</td>\n",
       "      <td>69539</td>\n",
       "      <td>70.1</td>\n",
       "      <td>36134</td>\n",
       "      <td>31068</td>\n",
       "      <td>2315</td>\n",
       "      <td>185985</td>\n",
       "      <td>37.9</td>\n",
       "      <td>86174</td>\n",
       "      <td>85884</td>\n",
       "      <td>13876</td>\n",
       "    </tr>\n",
       "    <tr>\n",
       "      <th>214314</th>\n",
       "      <td>1327369</td>\n",
       "      <td>JANSSEN</td>\n",
       "      <td>COVID19 (COVID19 (JANSSEN))</td>\n",
       "      <td>WY</td>\n",
       "      <td>68.0</td>\n",
       "      <td>F</td>\n",
       "      <td>N</td>\n",
       "      <td>NaN</td>\n",
       "      <td>NaN</td>\n",
       "      <td>NaN</td>\n",
       "      <td>...</td>\n",
       "      <td>69539</td>\n",
       "      <td>70.1</td>\n",
       "      <td>36134</td>\n",
       "      <td>31068</td>\n",
       "      <td>2315</td>\n",
       "      <td>185985</td>\n",
       "      <td>37.9</td>\n",
       "      <td>86174</td>\n",
       "      <td>85884</td>\n",
       "      <td>13876</td>\n",
       "    </tr>\n",
       "  </tbody>\n",
       "</table>\n",
       "<p>214315 rows × 35 columns</p>\n",
       "</div>"
      ],
      "text/plain": [
       "        VAERS_ID         VAX_MANU                             VAX_NAME STATE  \\\n",
       "0         916600          MODERNA          COVID19 (COVID19 (MODERNA))    TX   \n",
       "1         916604          MODERNA          COVID19 (COVID19 (MODERNA))    TX   \n",
       "2         916702          MODERNA          COVID19 (COVID19 (MODERNA))    TX   \n",
       "3         916703          MODERNA          COVID19 (COVID19 (MODERNA))    TX   \n",
       "4         916704          MODERNA          COVID19 (COVID19 (MODERNA))    TX   \n",
       "...          ...              ...                                  ...   ...   \n",
       "214310   1307523          JANSSEN          COVID19 (COVID19 (JANSSEN))    WY   \n",
       "214311   1310081          JANSSEN          COVID19 (COVID19 (JANSSEN))    WY   \n",
       "214312   1317972          JANSSEN          COVID19 (COVID19 (JANSSEN))    WY   \n",
       "214313   1320334  PFIZER\\BIONTECH  COVID19 (COVID19 (PFIZER-BIONTECH))    WY   \n",
       "214314   1327369          JANSSEN          COVID19 (COVID19 (JANSSEN))    WY   \n",
       "\n",
       "        AGE_YRS SEX DIED DATEDIED ER_VISIT HOSPITAL  ...  \\\n",
       "0          33.0   F    N      NaN      NaN      NaN  ...   \n",
       "1          47.0   F    N      NaN      NaN      NaN  ...   \n",
       "2          70.0   F    N      NaN      NaN      NaN  ...   \n",
       "3          60.0   F    N      NaN      NaN      NaN  ...   \n",
       "4          35.0   F    N      NaN      NaN      NaN  ...   \n",
       "...         ...  ..  ...      ...      ...      ...  ...   \n",
       "214310     57.0   F    N      NaN      NaN      NaN  ...   \n",
       "214311     37.0   F    N      NaN      NaN      NaN  ...   \n",
       "214312     63.0   M    N      NaN      NaN      NaN  ...   \n",
       "214313     51.0   F    N      NaN      NaN      NaN  ...   \n",
       "214314     68.0   F    N      NaN      NaN      NaN  ...   \n",
       "\n",
       "        People 65+ Fully Vaccinated by State of Residence  \\\n",
       "0                                                 2641680   \n",
       "1                                                 2641680   \n",
       "2                                                 2641680   \n",
       "3                                                 2641680   \n",
       "4                                                 2641680   \n",
       "...                                                   ...   \n",
       "214310                                              69539   \n",
       "214311                                              69539   \n",
       "214312                                              69539   \n",
       "214313                                              69539   \n",
       "214314                                              69539   \n",
       "\n",
       "       Percent of 65+ Pop Fully Vaccinated by State of Residence  \\\n",
       "0                                                    70.7          \n",
       "1                                                    70.7          \n",
       "2                                                    70.7          \n",
       "3                                                    70.7          \n",
       "4                                                    70.7          \n",
       "...                                                   ...          \n",
       "214310                                               70.1          \n",
       "214311                                               70.1          \n",
       "214312                                               70.1          \n",
       "214313                                               70.1          \n",
       "214314                                               70.1          \n",
       "\n",
       "       People 65+ Fully Vaccinated_Moderna_Resident  \\\n",
       "0                                           1088510   \n",
       "1                                           1088510   \n",
       "2                                           1088510   \n",
       "3                                           1088510   \n",
       "4                                           1088510   \n",
       "...                                             ...   \n",
       "214310                                        36134   \n",
       "214311                                        36134   \n",
       "214312                                        36134   \n",
       "214313                                        36134   \n",
       "214314                                        36134   \n",
       "\n",
       "        People 65+ Fully Vaccinated_Pfizer_Resident  \\\n",
       "0                                           1334324   \n",
       "1                                           1334324   \n",
       "2                                           1334324   \n",
       "3                                           1334324   \n",
       "4                                           1334324   \n",
       "...                                             ...   \n",
       "214310                                        31068   \n",
       "214311                                        31068   \n",
       "214312                                        31068   \n",
       "214313                                        31068   \n",
       "214314                                        31068   \n",
       "\n",
       "        People 65+ Fully Vaccinated_Janssen_Resident  \\\n",
       "0                                             218676   \n",
       "1                                             218676   \n",
       "2                                             218676   \n",
       "3                                             218676   \n",
       "4                                             218676   \n",
       "...                                              ...   \n",
       "214310                                          2315   \n",
       "214311                                          2315   \n",
       "214312                                          2315   \n",
       "214313                                          2315   \n",
       "214314                                          2315   \n",
       "\n",
       "        People 12+ Fully Vaccinated by State of Residence  \\\n",
       "0                                                10455865   \n",
       "1                                                10455865   \n",
       "2                                                10455865   \n",
       "3                                                10455865   \n",
       "4                                                10455865   \n",
       "...                                                   ...   \n",
       "214310                                             185985   \n",
       "214311                                             185985   \n",
       "214312                                             185985   \n",
       "214313                                             185985   \n",
       "214314                                             185985   \n",
       "\n",
       "        Percent of 12+ Pop Fully Vaccinated by State of Residence  \\\n",
       "0                                                    43.4           \n",
       "1                                                    43.4           \n",
       "2                                                    43.4           \n",
       "3                                                    43.4           \n",
       "4                                                    43.4           \n",
       "...                                                   ...           \n",
       "214310                                               37.9           \n",
       "214311                                               37.9           \n",
       "214312                                               37.9           \n",
       "214313                                               37.9           \n",
       "214314                                               37.9           \n",
       "\n",
       "        People 12+ Fully Vaccinated_Moderna_Resident  \\\n",
       "0                                            4308362   \n",
       "1                                            4308362   \n",
       "2                                            4308362   \n",
       "3                                            4308362   \n",
       "4                                            4308362   \n",
       "...                                              ...   \n",
       "214310                                         86174   \n",
       "214311                                         86174   \n",
       "214312                                         86174   \n",
       "214313                                         86174   \n",
       "214314                                         86174   \n",
       "\n",
       "        People 12+ Fully Vaccinated_Pfizer_Resident  \\\n",
       "0                                           5281305   \n",
       "1                                           5281305   \n",
       "2                                           5281305   \n",
       "3                                           5281305   \n",
       "4                                           5281305   \n",
       "...                                             ...   \n",
       "214310                                        85884   \n",
       "214311                                        85884   \n",
       "214312                                        85884   \n",
       "214313                                        85884   \n",
       "214314                                        85884   \n",
       "\n",
       "        People 12+ Fully Vaccinated_Janssen_Resident  \n",
       "0                                             865528  \n",
       "1                                             865528  \n",
       "2                                             865528  \n",
       "3                                             865528  \n",
       "4                                             865528  \n",
       "...                                              ...  \n",
       "214310                                         13876  \n",
       "214311                                         13876  \n",
       "214312                                         13876  \n",
       "214313                                         13876  \n",
       "214314                                         13876  \n",
       "\n",
       "[214315 rows x 35 columns]"
      ]
     },
     "execution_count": 33,
     "metadata": {},
     "output_type": "execute_result"
    }
   ],
   "source": [
    "df_merge"
   ]
  },
  {
   "cell_type": "code",
   "execution_count": 34,
   "metadata": {},
   "outputs": [],
   "source": [
    "df_merge2 = df_merge.loc[df_merge['DIED'] == 'Y']"
   ]
  },
  {
   "cell_type": "code",
   "execution_count": 35,
   "metadata": {},
   "outputs": [
    {
     "data": {
      "text/plain": [
       "array(['N', 'Y'], dtype=object)"
      ]
     },
     "execution_count": 35,
     "metadata": {},
     "output_type": "execute_result"
    }
   ],
   "source": [
    "df_merge['DIED'].unique()"
   ]
  },
  {
   "cell_type": "code",
   "execution_count": 36,
   "metadata": {},
   "outputs": [
    {
     "data": {
      "image/png": "[encoded data removed]",
      "text/plain": [
       "<Figure size 432x288 with 1 Axes>"
      ]
     },
     "metadata": {
      "needs_background": "light"
     },
     "output_type": "display_data"
    }
   ],
   "source": [
    "plt.hist(df_merge2.sample(frac=0.251,replace = True)['AGE_YRS'], bins = 20)\n",
    "plt.grid()\n",
    "plt.ylabel('# of Deaths')\n",
    "plt.xlabel('Age (Yrs)')\n",
    "plt.title('Number of Vaccine deaths by Age')\n",
    "plt.savefig('../Resources/Images/NumberVaccineDeathsbyAge.png')"
   ]
  },
  {
   "cell_type": "code",
   "execution_count": 37,
   "metadata": {},
   "outputs": [
    {
     "data": {
      "text/plain": [
       "Index(['VAERS_ID', 'VAX_MANU', 'VAX_NAME', 'STATE', 'AGE_YRS', 'SEX', 'DIED',\n",
       "       'DATEDIED', 'ER_VISIT', 'HOSPITAL', 'HOSPDAYS', 'DISABLE', 'Name',\n",
       "       'Total Doses Delivered',\n",
       "       'Total Doses Administered by State where Administered',\n",
       "       'People Fully Vaccinated by State of Residence',\n",
       "       'Percent of Total Pop Fully Vaccinated by State of Residence',\n",
       "       'People 18+ Fully Vaccinated by State of Residence',\n",
       "       'Percent of 18+ Pop Fully Vaccinated by State of Residence',\n",
       "       'People Fully Vaccinated Moderna Resident',\n",
       "       'People Fully Vaccinated Pfizer Resident',\n",
       "       'People Fully Vaccinated Janssen Resident',\n",
       "       'People 18+ Fully Vaccinated Moderna Resident',\n",
       "       'People 18+ Fully Vaccinated Pfizer Resident',\n",
       "       'People 18+ Fully Vaccinated Janssen Resident',\n",
       "       'People 65+ Fully Vaccinated by State of Residence',\n",
       "       'Percent of 65+ Pop Fully Vaccinated by State of Residence',\n",
       "       'People 65+ Fully Vaccinated_Moderna_Resident',\n",
       "       'People 65+ Fully Vaccinated_Pfizer_Resident',\n",
       "       'People 65+ Fully Vaccinated_Janssen_Resident',\n",
       "       'People 12+ Fully Vaccinated by State of Residence',\n",
       "       'Percent of 12+ Pop Fully Vaccinated by State of Residence',\n",
       "       'People 12+ Fully Vaccinated_Moderna_Resident',\n",
       "       'People 12+ Fully Vaccinated_Pfizer_Resident',\n",
       "       'People 12+ Fully Vaccinated_Janssen_Resident'],\n",
       "      dtype='object')"
      ]
     },
     "execution_count": 37,
     "metadata": {},
     "output_type": "execute_result"
    }
   ],
   "source": [
    "bins = [12,18,65,101]\n",
    "labels = ['12+','18+','65+']\n",
    "pd.cut(df_merge2['AGE_YRS'], bins=bins, labels=labels)\n",
    "df_merge.columns"
   ]
  },
  {
   "cell_type": "code",
   "execution_count": 38,
   "metadata": {},
   "outputs": [
    {
     "name": "stderr",
     "output_type": "stream",
     "text": [
      "No handles with labels found to put in legend.\n"
     ]
    },
    {
     "data": {
      "image/png": "[encoded data removed]",
      "text/plain": [
       "<Figure size 432x288 with 1 Axes>"
      ]
     },
     "metadata": {
      "needs_background": "light"
     },
     "output_type": "display_data"
    }
   ],
   "source": [
    "plt.hist(df_merge2['AGE_YRS'], bins = bins)\n",
    "plt.title(\"Histogram of COVID Vaccine Deaths by Age Group\")\n",
    "plt.xlabel(\"Age (Yrs)\")\n",
    "plt.ylabel(\"# of Deaths\")\n",
    "plt.legend()\n",
    "plt.grid()\n",
    "plt.savefig('../Resources/Images/HistbyAgeGroup.png')\n",
    "plt.show()"
   ]
  },
  {
   "cell_type": "code",
   "execution_count": 39,
   "metadata": {},
   "outputs": [],
   "source": [
    "# 64+ All Vaccines\n",
    "moderna_64up_total_vax = df_merge['People 65+ Fully Vaccinated_Moderna_Resident'].sum()\n",
    "pfizer_64up_total_vax = df_merge['People 65+ Fully Vaccinated_Pfizer_Resident'].sum()\n",
    "jj_64up_total_vax = df_merge['People 65+ Fully Vaccinated_Janssen_Resident'].sum()\n",
    "\n",
    "\n",
    "df_merge3 = df_merge.loc[(df_merge['VAX_NAME'] == 'COVID19 (COVID19 (MODERNA))') & (df_merge['AGE_YRS'] > 64)]\n",
    "df_merge4 = df_merge.loc[(df_merge['VAX_NAME'] == 'COVID19 (COVID19 (PFIZER-BIONTECH))') & (df_merge['AGE_YRS'] > 64)]\n",
    "df_merge5 = df_merge.loc[(df_merge['VAX_NAME'] == 'COVID19 (COVID19 (JANSSEN))') & (df_merge['AGE_YRS'] > 64)]\n",
    "\n",
    "# 12+ All Vaccines\n",
    "moderna_12up_total_vax = df_merge['People 12+ Fully Vaccinated_Moderna_Resident'].sum()\n",
    "pfizer_12up_total_vax = df_merge['People 12+ Fully Vaccinated_Pfizer_Resident'].sum()\n",
    "jj_12up_total_vax = df_merge['People 12+ Fully Vaccinated_Janssen_Resident'].sum()\n",
    "\n",
    "\n",
    "df_merge6 = df_merge.loc[(df_merge['VAX_NAME'] == 'COVID19 (COVID19 (MODERNA))') & (df_merge['AGE_YRS'] >= 12) & (df_merge['AGE_YRS'] < 18)]\n",
    "df_merge7 = df_merge.loc[(df_merge['VAX_NAME'] == 'COVID19 (COVID19 (PFIZER-BIONTECH))') & (df_merge['AGE_YRS'] >= 12) & (df_merge['AGE_YRS'] < 18)]\n",
    "df_merge8 = df_merge.loc[(df_merge['VAX_NAME'] == 'COVID19 (COVID19 (JANSSEN))') & (df_merge['AGE_YRS'] >= 12) & (df_merge['AGE_YRS'] < 18)]\n",
    "\n",
    "# 18+ All Vaccines\n",
    "moderna_18up_total_vax = df_merge['People 18+ Fully Vaccinated Moderna Resident'].sum()\n",
    "pfizer_18up_total_vax = df_merge['People 18+ Fully Vaccinated Pfizer Resident'].sum()\n",
    "jj_18up_total_vax = df_merge['People 18+ Fully Vaccinated Janssen Resident'].sum()\n",
    "\n",
    "\n",
    "df_merge9 = df_merge.loc[(df_merge['VAX_NAME'] == 'COVID19 (COVID19 (MODERNA))') & (df_merge['AGE_YRS'] >= 18) & (df_merge['AGE_YRS'] < 65)]\n",
    "df_merge10 = df_merge.loc[(df_merge['VAX_NAME'] == 'COVID19 (COVID19 (PFIZER-BIONTECH))') & (df_merge['AGE_YRS'] >= 18) & (df_merge['AGE_YRS'] < 65)]\n",
    "df_merge11 = df_merge.loc[(df_merge['VAX_NAME'] == 'COVID19 (COVID19 (JANSSEN))') & (df_merge['AGE_YRS'] >= 18) & (df_merge['AGE_YRS'] < 65)]\n",
    "\n"
   ]
  },
  {
   "cell_type": "code",
   "execution_count": 40,
   "metadata": {},
   "outputs": [],
   "source": [
    "# 64+ All Vaccines\n",
    "moderna_64up_deaths = df_merge3['DIED'].loc[df_merge3['DIED'] == 'Y'].count()\n",
    "pfizer_64up_deaths = df_merge4['DIED'].loc[df_merge4['DIED'] == 'Y'].count()\n",
    "jj_64up_deaths = df_merge5['DIED'].loc[df_merge5['DIED'] == 'Y'].count()\n",
    "\n",
    "# 12+ All Vaccines\n",
    "moderna_12up_deaths = df_merge6['DIED'].loc[df_merge6['DIED'] == 'Y'].count()\n",
    "pfizer_12up_deaths = df_merge7['DIED'].loc[df_merge7['DIED'] == 'Y'].count()\n",
    "jj_12up_deaths = df_merge8['DIED'].loc[df_merge8['DIED'] == 'Y'].count()\n",
    "\n",
    "\n",
    "# 18+ All Vaccines\n",
    "moderna_18up_deaths = df_merge9['DIED'].loc[df_merge9['DIED'] == 'Y'].count()\n",
    "pfizer_18up_deaths = df_merge10['DIED'].loc[df_merge10['DIED'] == 'Y'].count()\n",
    "jj_18up_deaths = df_merge11['DIED'].loc[df_merge11['DIED'] == 'Y'].count()"
   ]
  },
  {
   "cell_type": "code",
   "execution_count": 41,
   "metadata": {},
   "outputs": [],
   "source": [
    "# 64+ All Vaccines\n",
    "moderna_64up_rate = moderna_64up_deaths/moderna_64up_total_vax\n",
    "pfizer_64up_rate = pfizer_64up_deaths/pfizer_64up_total_vax\n",
    "jj_64up_rate = jj_64up_deaths/jj_64up_total_vax\n",
    "\n",
    "# 12+ All Vaccines\n",
    "moderna_12up_rate = moderna_12up_deaths/moderna_12up_total_vax\n",
    "pfizer_12up_rate = pfizer_12up_deaths/pfizer_12up_total_vax\n",
    "jj_12up_rate = jj_12up_deaths/jj_12up_total_vax\n",
    "\n",
    "# 18+ All Vaccines\n",
    "moderna_18up_rate = moderna_18up_deaths/moderna_18up_total_vax\n",
    "pfizer_18up_rate = pfizer_18up_deaths/pfizer_18up_total_vax\n",
    "jj_18up_rate = jj_18up_deaths/jj_18up_total_vax"
   ]
  },
  {
   "cell_type": "code",
   "execution_count": 42,
   "metadata": {},
   "outputs": [
    {
     "data": {
      "text/html": [
       "<div>\n",
       "<style scoped>\n",
       "    .dataframe tbody tr th:only-of-type {\n",
       "        vertical-align: middle;\n",
       "    }\n",
       "\n",
       "    .dataframe tbody tr th {\n",
       "        vertical-align: top;\n",
       "    }\n",
       "\n",
       "    .dataframe thead th {\n",
       "        text-align: right;\n",
       "    }\n",
       "</style>\n",
       "<table border=\"1\" class=\"dataframe\">\n",
       "  <thead>\n",
       "    <tr style=\"text-align: right;\">\n",
       "      <th></th>\n",
       "      <th>64+</th>\n",
       "      <th>12+</th>\n",
       "      <th>18+</th>\n",
       "    </tr>\n",
       "  </thead>\n",
       "  <tbody>\n",
       "    <tr>\n",
       "      <th>0</th>\n",
       "      <td>7.246507e-09</td>\n",
       "      <td>2.069523e-12</td>\n",
       "      <td>7.719618e-10</td>\n",
       "    </tr>\n",
       "    <tr>\n",
       "      <th>1</th>\n",
       "      <td>6.214262e-09</td>\n",
       "      <td>8.171364e-12</td>\n",
       "      <td>4.785953e-10</td>\n",
       "    </tr>\n",
       "    <tr>\n",
       "      <th>2</th>\n",
       "      <td>9.210265e-09</td>\n",
       "      <td>0.000000e+00</td>\n",
       "      <td>1.085627e-09</td>\n",
       "    </tr>\n",
       "  </tbody>\n",
       "</table>\n",
       "</div>"
      ],
      "text/plain": [
       "            64+           12+           18+\n",
       "0  7.246507e-09  2.069523e-12  7.719618e-10\n",
       "1  6.214262e-09  8.171364e-12  4.785953e-10\n",
       "2  9.210265e-09  0.000000e+00  1.085627e-09"
      ]
     },
     "execution_count": 42,
     "metadata": {},
     "output_type": "execute_result"
    }
   ],
   "source": [
    "# 64+ All Vaccines\n",
    "a64up_mortality_rate = [moderna_64up_rate, pfizer_64up_rate, jj_64up_rate]\n",
    "a12up_mortality_rate = [moderna_12up_rate, pfizer_12up_rate, jj_12up_rate]\n",
    "a18up_mortality_rate = [moderna_18up_rate, pfizer_18up_rate, jj_18up_rate]\n",
    "\n",
    "age_df = pd.DataFrame({\n",
    "    '64+': a64up_mortality_rate,\n",
    "    '12+': a12up_mortality_rate,\n",
    "    '18+': a18up_mortality_rate\n",
    "})\n",
    "\n",
    "age_df"
   ]
  },
  {
   "cell_type": "code",
   "execution_count": 43,
   "metadata": {},
   "outputs": [
    {
     "data": {
      "image/png": "[encoded data removed]",
      "text/plain": [
       "<Figure size 432x288 with 1 Axes>"
      ]
     },
     "metadata": {
      "needs_background": "light"
     },
     "output_type": "display_data"
    }
   ],
   "source": [
    "age_df.rename(index={0: 'Moderna', 1: 'Pfizer', 2: 'Janssen'},inplace=True)\n",
    "\n",
    "age_df.plot.bar()\n",
    "plt.ylabel('Mortatlity Rate')\n",
    "plt.title('Mortality Rate by Vaccine Type')\n",
    "plt.xticks(rotation=30)\n",
    "plt.savefig('../Resources/Images/MortalitybyVaccineandAgeGroup.png')\n",
    "plt.show()"
   ]
  },
  {
   "cell_type": "code",
   "execution_count": 202,
   "metadata": {},
   "outputs": [
    {
     "data": {
      "text/html": [
       "<div>\n",
       "<style scoped>\n",
       "    .dataframe tbody tr th:only-of-type {\n",
       "        vertical-align: middle;\n",
       "    }\n",
       "\n",
       "    .dataframe tbody tr th {\n",
       "        vertical-align: top;\n",
       "    }\n",
       "\n",
       "    .dataframe thead th {\n",
       "        text-align: right;\n",
       "    }\n",
       "</style>\n",
       "<table border=\"1\" class=\"dataframe\">\n",
       "  <thead>\n",
       "    <tr style=\"text-align: right;\">\n",
       "      <th></th>\n",
       "      <th>STATE</th>\n",
       "      <th>DIED</th>\n",
       "      <th>Name</th>\n",
       "      <th>People Fully Vaccinated by State of Residence</th>\n",
       "      <th>mortality_rate_by_state</th>\n",
       "    </tr>\n",
       "  </thead>\n",
       "  <tbody>\n",
       "    <tr>\n",
       "      <th>0</th>\n",
       "      <td>AK</td>\n",
       "      <td>26</td>\n",
       "      <td>Alaska</td>\n",
       "      <td>[290096]</td>\n",
       "      <td>0.000090</td>\n",
       "    </tr>\n",
       "    <tr>\n",
       "      <th>1</th>\n",
       "      <td>AL</td>\n",
       "      <td>51</td>\n",
       "      <td>Alabama</td>\n",
       "      <td>[1440101]</td>\n",
       "      <td>0.000035</td>\n",
       "    </tr>\n",
       "    <tr>\n",
       "      <th>2</th>\n",
       "      <td>AR</td>\n",
       "      <td>41</td>\n",
       "      <td>Arkansas</td>\n",
       "      <td>[950289]</td>\n",
       "      <td>0.000043</td>\n",
       "    </tr>\n",
       "    <tr>\n",
       "      <th>3</th>\n",
       "      <td>AZ</td>\n",
       "      <td>55</td>\n",
       "      <td>Arizona</td>\n",
       "      <td>[2648659]</td>\n",
       "      <td>0.000021</td>\n",
       "    </tr>\n",
       "    <tr>\n",
       "      <th>4</th>\n",
       "      <td>CA</td>\n",
       "      <td>304</td>\n",
       "      <td>California</td>\n",
       "      <td>[17297403]</td>\n",
       "      <td>0.000018</td>\n",
       "    </tr>\n",
       "    <tr>\n",
       "      <th>5</th>\n",
       "      <td>CO</td>\n",
       "      <td>56</td>\n",
       "      <td>Colorado</td>\n",
       "      <td>[2651999]</td>\n",
       "      <td>0.000021</td>\n",
       "    </tr>\n",
       "    <tr>\n",
       "      <th>6</th>\n",
       "      <td>CT</td>\n",
       "      <td>31</td>\n",
       "      <td>Connecticut</td>\n",
       "      <td>[1930105]</td>\n",
       "      <td>0.000016</td>\n",
       "    </tr>\n",
       "    <tr>\n",
       "      <th>7</th>\n",
       "      <td>DE</td>\n",
       "      <td>9</td>\n",
       "      <td>Delaware</td>\n",
       "      <td>[427746]</td>\n",
       "      <td>0.000021</td>\n",
       "    </tr>\n",
       "    <tr>\n",
       "      <th>8</th>\n",
       "      <td>FL</td>\n",
       "      <td>192</td>\n",
       "      <td>Florida</td>\n",
       "      <td>[8510451]</td>\n",
       "      <td>0.000023</td>\n",
       "    </tr>\n",
       "    <tr>\n",
       "      <th>9</th>\n",
       "      <td>GA</td>\n",
       "      <td>93</td>\n",
       "      <td>Georgia</td>\n",
       "      <td>[3512913]</td>\n",
       "      <td>0.000026</td>\n",
       "    </tr>\n",
       "    <tr>\n",
       "      <th>10</th>\n",
       "      <td>HI</td>\n",
       "      <td>27</td>\n",
       "      <td>Hawaii</td>\n",
       "      <td>[677916]</td>\n",
       "      <td>0.000040</td>\n",
       "    </tr>\n",
       "    <tr>\n",
       "      <th>11</th>\n",
       "      <td>IA</td>\n",
       "      <td>48</td>\n",
       "      <td>Iowa</td>\n",
       "      <td>[1395601]</td>\n",
       "      <td>0.000034</td>\n",
       "    </tr>\n",
       "    <tr>\n",
       "      <th>12</th>\n",
       "      <td>ID</td>\n",
       "      <td>10</td>\n",
       "      <td>Idaho</td>\n",
       "      <td>[591294]</td>\n",
       "      <td>0.000017</td>\n",
       "    </tr>\n",
       "    <tr>\n",
       "      <th>13</th>\n",
       "      <td>IL</td>\n",
       "      <td>179</td>\n",
       "      <td>Illinois</td>\n",
       "      <td>[5132008]</td>\n",
       "      <td>0.000035</td>\n",
       "    </tr>\n",
       "    <tr>\n",
       "      <th>14</th>\n",
       "      <td>IN</td>\n",
       "      <td>52</td>\n",
       "      <td>Indiana</td>\n",
       "      <td>[2416170]</td>\n",
       "      <td>0.000022</td>\n",
       "    </tr>\n",
       "    <tr>\n",
       "      <th>15</th>\n",
       "      <td>KS</td>\n",
       "      <td>53</td>\n",
       "      <td>Kansas</td>\n",
       "      <td>[1128526]</td>\n",
       "      <td>0.000047</td>\n",
       "    </tr>\n",
       "    <tr>\n",
       "      <th>16</th>\n",
       "      <td>KY</td>\n",
       "      <td>131</td>\n",
       "      <td>Kentucky</td>\n",
       "      <td>[1734544]</td>\n",
       "      <td>0.000076</td>\n",
       "    </tr>\n",
       "    <tr>\n",
       "      <th>17</th>\n",
       "      <td>LA</td>\n",
       "      <td>43</td>\n",
       "      <td>Louisiana</td>\n",
       "      <td>[1467057]</td>\n",
       "      <td>0.000029</td>\n",
       "    </tr>\n",
       "    <tr>\n",
       "      <th>18</th>\n",
       "      <td>MA</td>\n",
       "      <td>69</td>\n",
       "      <td>Massachusetts</td>\n",
       "      <td>[3763179]</td>\n",
       "      <td>0.000018</td>\n",
       "    </tr>\n",
       "    <tr>\n",
       "      <th>19</th>\n",
       "      <td>MD</td>\n",
       "      <td>63</td>\n",
       "      <td>Maryland</td>\n",
       "      <td>[2946382]</td>\n",
       "      <td>0.000021</td>\n",
       "    </tr>\n",
       "    <tr>\n",
       "      <th>20</th>\n",
       "      <td>ME</td>\n",
       "      <td>20</td>\n",
       "      <td>Maine</td>\n",
       "      <td>[746173]</td>\n",
       "      <td>0.000027</td>\n",
       "    </tr>\n",
       "    <tr>\n",
       "      <th>21</th>\n",
       "      <td>MI</td>\n",
       "      <td>150</td>\n",
       "      <td>Michigan</td>\n",
       "      <td>[4254006]</td>\n",
       "      <td>0.000035</td>\n",
       "    </tr>\n",
       "    <tr>\n",
       "      <th>22</th>\n",
       "      <td>MN</td>\n",
       "      <td>132</td>\n",
       "      <td>Minnesota</td>\n",
       "      <td>[2627328]</td>\n",
       "      <td>0.000050</td>\n",
       "    </tr>\n",
       "    <tr>\n",
       "      <th>23</th>\n",
       "      <td>MO</td>\n",
       "      <td>80</td>\n",
       "      <td>Missouri</td>\n",
       "      <td>[2130007]</td>\n",
       "      <td>0.000038</td>\n",
       "    </tr>\n",
       "    <tr>\n",
       "      <th>24</th>\n",
       "      <td>MS</td>\n",
       "      <td>41</td>\n",
       "      <td>Mississippi</td>\n",
       "      <td>[817913]</td>\n",
       "      <td>0.000050</td>\n",
       "    </tr>\n",
       "    <tr>\n",
       "      <th>25</th>\n",
       "      <td>MT</td>\n",
       "      <td>23</td>\n",
       "      <td>Montana</td>\n",
       "      <td>[410207]</td>\n",
       "      <td>0.000056</td>\n",
       "    </tr>\n",
       "    <tr>\n",
       "      <th>26</th>\n",
       "      <td>NC</td>\n",
       "      <td>81</td>\n",
       "      <td>North Carolina</td>\n",
       "      <td>[3821696]</td>\n",
       "      <td>0.000021</td>\n",
       "    </tr>\n",
       "    <tr>\n",
       "      <th>27</th>\n",
       "      <td>ND</td>\n",
       "      <td>18</td>\n",
       "      <td>North Dakota</td>\n",
       "      <td>[280490]</td>\n",
       "      <td>0.000064</td>\n",
       "    </tr>\n",
       "    <tr>\n",
       "      <th>28</th>\n",
       "      <td>NE</td>\n",
       "      <td>35</td>\n",
       "      <td>Nebraska</td>\n",
       "      <td>[826922]</td>\n",
       "      <td>0.000042</td>\n",
       "    </tr>\n",
       "    <tr>\n",
       "      <th>29</th>\n",
       "      <td>NH</td>\n",
       "      <td>44</td>\n",
       "      <td>New Hampshire</td>\n",
       "      <td>[679875]</td>\n",
       "      <td>0.000065</td>\n",
       "    </tr>\n",
       "    <tr>\n",
       "      <th>30</th>\n",
       "      <td>NJ</td>\n",
       "      <td>72</td>\n",
       "      <td>New Jersey</td>\n",
       "      <td>[4413738]</td>\n",
       "      <td>0.000016</td>\n",
       "    </tr>\n",
       "    <tr>\n",
       "      <th>31</th>\n",
       "      <td>NM</td>\n",
       "      <td>27</td>\n",
       "      <td>New Mexico</td>\n",
       "      <td>[1013369]</td>\n",
       "      <td>0.000027</td>\n",
       "    </tr>\n",
       "    <tr>\n",
       "      <th>32</th>\n",
       "      <td>NV</td>\n",
       "      <td>24</td>\n",
       "      <td>Nevada</td>\n",
       "      <td>[1151116]</td>\n",
       "      <td>0.000021</td>\n",
       "    </tr>\n",
       "    <tr>\n",
       "      <th>33</th>\n",
       "      <td>OH</td>\n",
       "      <td>141</td>\n",
       "      <td>Ohio</td>\n",
       "      <td>[4746369]</td>\n",
       "      <td>0.000030</td>\n",
       "    </tr>\n",
       "    <tr>\n",
       "      <th>34</th>\n",
       "      <td>OK</td>\n",
       "      <td>24</td>\n",
       "      <td>Oklahoma</td>\n",
       "      <td>[1344106]</td>\n",
       "      <td>0.000018</td>\n",
       "    </tr>\n",
       "    <tr>\n",
       "      <th>35</th>\n",
       "      <td>OR</td>\n",
       "      <td>49</td>\n",
       "      <td>Oregon</td>\n",
       "      <td>[1948094]</td>\n",
       "      <td>0.000025</td>\n",
       "    </tr>\n",
       "    <tr>\n",
       "      <th>36</th>\n",
       "      <td>PA</td>\n",
       "      <td>136</td>\n",
       "      <td>Pennsylvania</td>\n",
       "      <td>[5711891]</td>\n",
       "      <td>0.000024</td>\n",
       "    </tr>\n",
       "    <tr>\n",
       "      <th>37</th>\n",
       "      <td>RI</td>\n",
       "      <td>13</td>\n",
       "      <td>Rhode Island</td>\n",
       "      <td>[554711]</td>\n",
       "      <td>0.000023</td>\n",
       "    </tr>\n",
       "    <tr>\n",
       "      <th>38</th>\n",
       "      <td>SC</td>\n",
       "      <td>32</td>\n",
       "      <td>South Carolina</td>\n",
       "      <td>[1773436]</td>\n",
       "      <td>0.000018</td>\n",
       "    </tr>\n",
       "    <tr>\n",
       "      <th>39</th>\n",
       "      <td>SD</td>\n",
       "      <td>15</td>\n",
       "      <td>South Dakota</td>\n",
       "      <td>[377759]</td>\n",
       "      <td>0.000040</td>\n",
       "    </tr>\n",
       "    <tr>\n",
       "      <th>40</th>\n",
       "      <td>TN</td>\n",
       "      <td>74</td>\n",
       "      <td>Tennessee</td>\n",
       "      <td>[2189556]</td>\n",
       "      <td>0.000034</td>\n",
       "    </tr>\n",
       "    <tr>\n",
       "      <th>41</th>\n",
       "      <td>TX</td>\n",
       "      <td>168</td>\n",
       "      <td>Texas</td>\n",
       "      <td>[10457956]</td>\n",
       "      <td>0.000016</td>\n",
       "    </tr>\n",
       "    <tr>\n",
       "      <th>42</th>\n",
       "      <td>UT</td>\n",
       "      <td>14</td>\n",
       "      <td>Utah</td>\n",
       "      <td>[1043093]</td>\n",
       "      <td>0.000013</td>\n",
       "    </tr>\n",
       "    <tr>\n",
       "      <th>43</th>\n",
       "      <td>VA</td>\n",
       "      <td>84</td>\n",
       "      <td>Virginia</td>\n",
       "      <td>[3904536]</td>\n",
       "      <td>0.000022</td>\n",
       "    </tr>\n",
       "    <tr>\n",
       "      <th>44</th>\n",
       "      <td>VT</td>\n",
       "      <td>8</td>\n",
       "      <td>Vermont</td>\n",
       "      <td>[356637]</td>\n",
       "      <td>0.000022</td>\n",
       "    </tr>\n",
       "    <tr>\n",
       "      <th>45</th>\n",
       "      <td>WA</td>\n",
       "      <td>77</td>\n",
       "      <td>Washington</td>\n",
       "      <td>[3615975]</td>\n",
       "      <td>0.000021</td>\n",
       "    </tr>\n",
       "    <tr>\n",
       "      <th>46</th>\n",
       "      <td>WI</td>\n",
       "      <td>88</td>\n",
       "      <td>Wisconsin</td>\n",
       "      <td>[2615992]</td>\n",
       "      <td>0.000034</td>\n",
       "    </tr>\n",
       "    <tr>\n",
       "      <th>47</th>\n",
       "      <td>WV</td>\n",
       "      <td>28</td>\n",
       "      <td>West Virginia</td>\n",
       "      <td>[614796]</td>\n",
       "      <td>0.000046</td>\n",
       "    </tr>\n",
       "    <tr>\n",
       "      <th>48</th>\n",
       "      <td>WY</td>\n",
       "      <td>15</td>\n",
       "      <td>Wyoming</td>\n",
       "      <td>[185986]</td>\n",
       "      <td>0.000081</td>\n",
       "    </tr>\n",
       "  </tbody>\n",
       "</table>\n",
       "</div>"
      ],
      "text/plain": [
       "   STATE  DIED            Name People Fully Vaccinated by State of Residence  \\\n",
       "0     AK    26          Alaska                                      [290096]   \n",
       "1     AL    51         Alabama                                     [1440101]   \n",
       "2     AR    41        Arkansas                                      [950289]   \n",
       "3     AZ    55         Arizona                                     [2648659]   \n",
       "4     CA   304      California                                    [17297403]   \n",
       "5     CO    56        Colorado                                     [2651999]   \n",
       "6     CT    31     Connecticut                                     [1930105]   \n",
       "7     DE     9        Delaware                                      [427746]   \n",
       "8     FL   192         Florida                                     [8510451]   \n",
       "9     GA    93         Georgia                                     [3512913]   \n",
       "10    HI    27          Hawaii                                      [677916]   \n",
       "11    IA    48            Iowa                                     [1395601]   \n",
       "12    ID    10           Idaho                                      [591294]   \n",
       "13    IL   179        Illinois                                     [5132008]   \n",
       "14    IN    52         Indiana                                     [2416170]   \n",
       "15    KS    53          Kansas                                     [1128526]   \n",
       "16    KY   131        Kentucky                                     [1734544]   \n",
       "17    LA    43       Louisiana                                     [1467057]   \n",
       "18    MA    69   Massachusetts                                     [3763179]   \n",
       "19    MD    63        Maryland                                     [2946382]   \n",
       "20    ME    20           Maine                                      [746173]   \n",
       "21    MI   150        Michigan                                     [4254006]   \n",
       "22    MN   132       Minnesota                                     [2627328]   \n",
       "23    MO    80        Missouri                                     [2130007]   \n",
       "24    MS    41     Mississippi                                      [817913]   \n",
       "25    MT    23         Montana                                      [410207]   \n",
       "26    NC    81  North Carolina                                     [3821696]   \n",
       "27    ND    18    North Dakota                                      [280490]   \n",
       "28    NE    35        Nebraska                                      [826922]   \n",
       "29    NH    44   New Hampshire                                      [679875]   \n",
       "30    NJ    72      New Jersey                                     [4413738]   \n",
       "31    NM    27      New Mexico                                     [1013369]   \n",
       "32    NV    24          Nevada                                     [1151116]   \n",
       "33    OH   141            Ohio                                     [4746369]   \n",
       "34    OK    24        Oklahoma                                     [1344106]   \n",
       "35    OR    49          Oregon                                     [1948094]   \n",
       "36    PA   136    Pennsylvania                                     [5711891]   \n",
       "37    RI    13    Rhode Island                                      [554711]   \n",
       "38    SC    32  South Carolina                                     [1773436]   \n",
       "39    SD    15    South Dakota                                      [377759]   \n",
       "40    TN    74       Tennessee                                     [2189556]   \n",
       "41    TX   168           Texas                                    [10457956]   \n",
       "42    UT    14            Utah                                     [1043093]   \n",
       "43    VA    84        Virginia                                     [3904536]   \n",
       "44    VT     8         Vermont                                      [356637]   \n",
       "45    WA    77      Washington                                     [3615975]   \n",
       "46    WI    88       Wisconsin                                     [2615992]   \n",
       "47    WV    28   West Virginia                                      [614796]   \n",
       "48    WY    15         Wyoming                                      [185986]   \n",
       "\n",
       "    mortality_rate_by_state  \n",
       "0                  0.000090  \n",
       "1                  0.000035  \n",
       "2                  0.000043  \n",
       "3                  0.000021  \n",
       "4                  0.000018  \n",
       "5                  0.000021  \n",
       "6                  0.000016  \n",
       "7                  0.000021  \n",
       "8                  0.000023  \n",
       "9                  0.000026  \n",
       "10                 0.000040  \n",
       "11                 0.000034  \n",
       "12                 0.000017  \n",
       "13                 0.000035  \n",
       "14                 0.000022  \n",
       "15                 0.000047  \n",
       "16                 0.000076  \n",
       "17                 0.000029  \n",
       "18                 0.000018  \n",
       "19                 0.000021  \n",
       "20                 0.000027  \n",
       "21                 0.000035  \n",
       "22                 0.000050  \n",
       "23                 0.000038  \n",
       "24                 0.000050  \n",
       "25                 0.000056  \n",
       "26                 0.000021  \n",
       "27                 0.000064  \n",
       "28                 0.000042  \n",
       "29                 0.000065  \n",
       "30                 0.000016  \n",
       "31                 0.000027  \n",
       "32                 0.000021  \n",
       "33                 0.000030  \n",
       "34                 0.000018  \n",
       "35                 0.000025  \n",
       "36                 0.000024  \n",
       "37                 0.000023  \n",
       "38                 0.000018  \n",
       "39                 0.000040  \n",
       "40                 0.000034  \n",
       "41                 0.000016  \n",
       "42                 0.000013  \n",
       "43                 0.000022  \n",
       "44                 0.000022  \n",
       "45                 0.000021  \n",
       "46                 0.000034  \n",
       "47                 0.000046  \n",
       "48                 0.000081  "
      ]
     },
     "execution_count": 202,
     "metadata": {},
     "output_type": "execute_result"
    }
   ],
   "source": [
    "states = pd.DataFrame(df_output.groupby('STATE')['DIED'].count())\n",
    "states2 = pd.merge(states, df2, on='STATE', how='inner')\n",
    "states2.drop(states2.STATE.loc[states2.STATE == 'NY'].index[0], axis = 0,inplace=True)\n",
    "\n",
    "vax_by_state = df_merge.groupby('STATE')['People Fully Vaccinated by State of Residence'].unique()\n",
    "vax_by_state_df = vax_by_state.reset_index()\n",
    "\n",
    "vax_mortality_df = pd.merge(states2,vax_by_state_df, on='STATE',how='inner')\n",
    "vax_mortality_df\n",
    "\n",
    "state_mortality = []\n",
    "for x in range(49):\n",
    "    state_mortality.append(vax_mortality_df['DIED'][x] / vax_mortality_df['People Fully Vaccinated by State of Residence'][x][0])\n",
    "\n",
    "vax_mortality_df['mortality_rate_by_state'] = state_mortality\n",
    "vax_mortality_df\n"
   ]
  },
  {
   "cell_type": "code",
   "execution_count": 204,
   "metadata": {},
   "outputs": [
    {
     "data": {
      "application/vnd.plotly.v1+json": {
       "config": {
        "plotlyServerURL": "https://plot.ly"
       },
       "data": [
        {
         "colorbar": {
          "title": {
           "text": "Mortality Rate"
          }
         },
         "colorscale": [
          [
           0,
           "rgb(255,245,240)"
          ],
          [
           0.125,
           "rgb(254,224,210)"
          ],
          [
           0.25,
           "rgb(252,187,161)"
          ],
          [
           0.375,
           "rgb(252,146,114)"
          ],
          [
           0.5,
           "rgb(251,106,74)"
          ],
          [
           0.625,
           "rgb(239,59,44)"
          ],
          [
           0.75,
           "rgb(203,24,29)"
          ],
          [
           0.875,
           "rgb(165,15,21)"
          ],
          [
           1,
           "rgb(103,0,13)"
          ]
         ],
         "locationmode": "USA-states",
         "locations": [
          "AK",
          "AL",
          "AR",
          "AZ",
          "CA",
          "CO",
          "CT",
          "DE",
          "FL",
          "GA",
          "HI",
          "IA",
          "ID",
          "IL",
          "IN",
          "KS",
          "KY",
          "LA",
          "MA",
          "MD",
          "ME",
          "MI",
          "MN",
          "MO",
          "MS",
          "MT",
          "NC",
          "ND",
          "NE",
          "NH",
          "NJ",
          "NM",
          "NV",
          "OH",
          "OK",
          "OR",
          "PA",
          "RI",
          "SC",
          "SD",
          "TN",
          "TX",
          "UT",
          "VA",
          "VT",
          "WA",
          "WI",
          "WV",
          "WY"
         ],
         "type": "choropleth",
         "z": [
          8.962550328167227e-05,
          3.5414182755237305e-05,
          4.3144769643761e-05,
          2.076522496855956e-05,
          1.7574892600929745e-05,
          2.1116146725545524e-05,
          1.606130236437914e-05,
          2.104052404931899e-05,
          2.2560496500126725e-05,
          2.6473755541341332e-05,
          3.982794328500876e-05,
          3.4393784469916544e-05,
          1.6912060666944023e-05,
          3.487913502862817e-05,
          2.1521664452418497e-05,
          4.696391576268513e-05,
          7.552417234731433e-05,
          2.9310381259896513e-05,
          1.8335561502655068e-05,
          2.138215614947417e-05,
          2.680343566438346e-05,
          3.5260881155315716e-05,
          5.0241157556270096e-05,
          3.7558562014115444e-05,
          5.012758080627157e-05,
          5.6069252840639e-05,
          2.1194778443916e-05,
          6.417341081678491e-05,
          4.232563651710802e-05,
          6.471777900349329e-05,
          1.6312703653909678e-05,
          2.6643799050493946e-05,
          2.084933230013309e-05,
          2.9706919120700478e-05,
          1.7855734592361018e-05,
          2.5152790368431912e-05,
          2.3809978166600167e-05,
          2.343562683992205e-05,
          1.8044068125379207e-05,
          3.970785606696333e-05,
          3.379680629314802e-05,
          1.606432461563235e-05,
          1.3421622041371192e-05,
          2.1513439753148645e-05,
          2.2431772362374065e-05,
          2.1294395011027454e-05,
          3.363924660320062e-05,
          4.554356241745229e-05,
          8.065123181314722e-05
         ]
        }
       ],
       "layout": {
        "geo": {
         "scope": "usa"
        },
        "template": {
         "data": {
          "bar": [
           {
            "error_x": {
             "color": "#2a3f5f"
            },
            "error_y": {
             "color": "#2a3f5f"
            },
            "marker": {
             "line": {
              "color": "#E5ECF6",
              "width": 0.5
             }
            },
            "type": "bar"
           }
          ],
          "barpolar": [
           {
            "marker": {
             "line": {
              "color": "#E5ECF6",
              "width": 0.5
             }
            },
            "type": "barpolar"
           }
          ],
          "carpet": [
           {
            "aaxis": {
             "endlinecolor": "#2a3f5f",
             "gridcolor": "white",
             "linecolor": "white",
             "minorgridcolor": "white",
             "startlinecolor": "#2a3f5f"
            },
            "baxis": {
             "endlinecolor": "#2a3f5f",
             "gridcolor": "white",
             "linecolor": "white",
             "minorgridcolor": "white",
             "startlinecolor": "#2a3f5f"
            },
            "type": "carpet"
           }
          ],
          "choropleth": [
           {
            "colorbar": {
             "outlinewidth": 0,
             "ticks": ""
            },
            "type": "choropleth"
           }
          ],
          "contour": [
           {
            "colorbar": {
             "outlinewidth": 0,
             "ticks": ""
            },
            "colorscale": [
             [
              0,
              "#0d0887"
             ],
             [
              0.1111111111111111,
              "#46039f"
             ],
             [
              0.2222222222222222,
              "#7201a8"
             ],
             [
              0.3333333333333333,
              "#9c179e"
             ],
             [
              0.4444444444444444,
              "#bd3786"
             ],
             [
              0.5555555555555556,
              "#d8576b"
             ],
             [
              0.6666666666666666,
              "#ed7953"
             ],
             [
              0.7777777777777778,
              "#fb9f3a"
             ],
             [
              0.8888888888888888,
              "#fdca26"
             ],
             [
              1,
              "#f0f921"
             ]
            ],
            "type": "contour"
           }
          ],
          "contourcarpet": [
           {
            "colorbar": {
             "outlinewidth": 0,
             "ticks": ""
            },
            "type": "contourcarpet"
           }
          ],
          "heatmap": [
           {
            "colorbar": {
             "outlinewidth": 0,
             "ticks": ""
            },
            "colorscale": [
             [
              0,
              "#0d0887"
             ],
             [
              0.1111111111111111,
              "#46039f"
             ],
             [
              0.2222222222222222,
              "#7201a8"
             ],
             [
              0.3333333333333333,
              "#9c179e"
             ],
             [
              0.4444444444444444,
              "#bd3786"
             ],
             [
              0.5555555555555556,
              "#d8576b"
             ],
             [
              0.6666666666666666,
              "#ed7953"
             ],
             [
              0.7777777777777778,
              "#fb9f3a"
             ],
             [
              0.8888888888888888,
              "#fdca26"
             ],
             [
              1,
              "#f0f921"
             ]
            ],
            "type": "heatmap"
           }
          ],
          "heatmapgl": [
           {
            "colorbar": {
             "outlinewidth": 0,
             "ticks": ""
            },
            "colorscale": [
             [
              0,
              "#0d0887"
             ],
             [
              0.1111111111111111,
              "#46039f"
             ],
             [
              0.2222222222222222,
              "#7201a8"
             ],
             [
              0.3333333333333333,
              "#9c179e"
             ],
             [
              0.4444444444444444,
              "#bd3786"
             ],
             [
              0.5555555555555556,
              "#d8576b"
             ],
             [
              0.6666666666666666,
              "#ed7953"
             ],
             [
              0.7777777777777778,
              "#fb9f3a"
             ],
             [
              0.8888888888888888,
              "#fdca26"
             ],
             [
              1,
              "#f0f921"
             ]
            ],
            "type": "heatmapgl"
           }
          ],
          "histogram": [
           {
            "marker": {
             "colorbar": {
              "outlinewidth": 0,
              "ticks": ""
             }
            },
            "type": "histogram"
           }
          ],
          "histogram2d": [
           {
            "colorbar": {
             "outlinewidth": 0,
             "ticks": ""
            },
            "colorscale": [
             [
              0,
              "#0d0887"
             ],
             [
              0.1111111111111111,
              "#46039f"
             ],
             [
              0.2222222222222222,
              "#7201a8"
             ],
             [
              0.3333333333333333,
              "#9c179e"
             ],
             [
              0.4444444444444444,
              "#bd3786"
             ],
             [
              0.5555555555555556,
              "#d8576b"
             ],
             [
              0.6666666666666666,
              "#ed7953"
             ],
             [
              0.7777777777777778,
              "#fb9f3a"
             ],
             [
              0.8888888888888888,
              "#fdca26"
             ],
             [
              1,
              "#f0f921"
             ]
            ],
            "type": "histogram2d"
           }
          ],
          "histogram2dcontour": [
           {
            "colorbar": {
             "outlinewidth": 0,
             "ticks": ""
            },
            "colorscale": [
             [
              0,
              "#0d0887"
             ],
             [
              0.1111111111111111,
              "#46039f"
             ],
             [
              0.2222222222222222,
              "#7201a8"
             ],
             [
              0.3333333333333333,
              "#9c179e"
             ],
             [
              0.4444444444444444,
              "#bd3786"
             ],
             [
              0.5555555555555556,
              "#d8576b"
             ],
             [
              0.6666666666666666,
              "#ed7953"
             ],
             [
              0.7777777777777778,
              "#fb9f3a"
             ],
             [
              0.8888888888888888,
              "#fdca26"
             ],
             [
              1,
              "#f0f921"
             ]
            ],
            "type": "histogram2dcontour"
           }
          ],
          "mesh3d": [
           {
            "colorbar": {
             "outlinewidth": 0,
             "ticks": ""
            },
            "type": "mesh3d"
           }
          ],
          "parcoords": [
           {
            "line": {
             "colorbar": {
              "outlinewidth": 0,
              "ticks": ""
             }
            },
            "type": "parcoords"
           }
          ],
          "pie": [
           {
            "automargin": true,
            "type": "pie"
           }
          ],
          "scatter": [
           {
            "marker": {
             "colorbar": {
              "outlinewidth": 0,
              "ticks": ""
             }
            },
            "type": "scatter"
           }
          ],
          "scatter3d": [
           {
            "line": {
             "colorbar": {
              "outlinewidth": 0,
              "ticks": ""
             }
            },
            "marker": {
             "colorbar": {
              "outlinewidth": 0,
              "ticks": ""
             }
            },
            "type": "scatter3d"
           }
          ],
          "scattercarpet": [
           {
            "marker": {
             "colorbar": {
              "outlinewidth": 0,
              "ticks": ""
             }
            },
            "type": "scattercarpet"
           }
          ],
          "scattergeo": [
           {
            "marker": {
             "colorbar": {
              "outlinewidth": 0,
              "ticks": ""
             }
            },
            "type": "scattergeo"
           }
          ],
          "scattergl": [
           {
            "marker": {
             "colorbar": {
              "outlinewidth": 0,
              "ticks": ""
             }
            },
            "type": "scattergl"
           }
          ],
          "scattermapbox": [
           {
            "marker": {
             "colorbar": {
              "outlinewidth": 0,
              "ticks": ""
             }
            },
            "type": "scattermapbox"
           }
          ],
          "scatterpolar": [
           {
            "marker": {
             "colorbar": {
              "outlinewidth": 0,
              "ticks": ""
             }
            },
            "type": "scatterpolar"
           }
          ],
          "scatterpolargl": [
           {
            "marker": {
             "colorbar": {
              "outlinewidth": 0,
              "ticks": ""
             }
            },
            "type": "scatterpolargl"
           }
          ],
          "scatterternary": [
           {
            "marker": {
             "colorbar": {
              "outlinewidth": 0,
              "ticks": ""
             }
            },
            "type": "scatterternary"
           }
          ],
          "surface": [
           {
            "colorbar": {
             "outlinewidth": 0,
             "ticks": ""
            },
            "colorscale": [
             [
              0,
              "#0d0887"
             ],
             [
              0.1111111111111111,
              "#46039f"
             ],
             [
              0.2222222222222222,
              "#7201a8"
             ],
             [
              0.3333333333333333,
              "#9c179e"
             ],
             [
              0.4444444444444444,
              "#bd3786"
             ],
             [
              0.5555555555555556,
              "#d8576b"
             ],
             [
              0.6666666666666666,
              "#ed7953"
             ],
             [
              0.7777777777777778,
              "#fb9f3a"
             ],
             [
              0.8888888888888888,
              "#fdca26"
             ],
             [
              1,
              "#f0f921"
             ]
            ],
            "type": "surface"
           }
          ],
          "table": [
           {
            "cells": {
             "fill": {
              "color": "#EBF0F8"
             },
             "line": {
              "color": "white"
             }
            },
            "header": {
             "fill": {
              "color": "#C8D4E3"
             },
             "line": {
              "color": "white"
             }
            },
            "type": "table"
           }
          ]
         },
         "layout": {
          "annotationdefaults": {
           "arrowcolor": "#2a3f5f",
           "arrowhead": 0,
           "arrowwidth": 1
          },
          "autotypenumbers": "strict",
          "coloraxis": {
           "colorbar": {
            "outlinewidth": 0,
            "ticks": ""
           }
          },
          "colorscale": {
           "diverging": [
            [
             0,
             "#8e0152"
            ],
            [
             0.1,
             "#c51b7d"
            ],
            [
             0.2,
             "#de77ae"
            ],
            [
             0.3,
             "#f1b6da"
            ],
            [
             0.4,
             "#fde0ef"
            ],
            [
             0.5,
             "#f7f7f7"
            ],
            [
             0.6,
             "#e6f5d0"
            ],
            [
             0.7,
             "#b8e186"
            ],
            [
             0.8,
             "#7fbc41"
            ],
            [
             0.9,
             "#4d9221"
            ],
            [
             1,
             "#276419"
            ]
           ],
           "sequential": [
            [
             0,
             "#0d0887"
            ],
            [
             0.1111111111111111,
             "#46039f"
            ],
            [
             0.2222222222222222,
             "#7201a8"
            ],
            [
             0.3333333333333333,
             "#9c179e"
            ],
            [
             0.4444444444444444,
             "#bd3786"
            ],
            [
             0.5555555555555556,
             "#d8576b"
            ],
            [
             0.6666666666666666,
             "#ed7953"
            ],
            [
             0.7777777777777778,
             "#fb9f3a"
            ],
            [
             0.8888888888888888,
             "#fdca26"
            ],
            [
             1,
             "#f0f921"
            ]
           ],
           "sequentialminus": [
            [
             0,
             "#0d0887"
            ],
            [
             0.1111111111111111,
             "#46039f"
            ],
            [
             0.2222222222222222,
             "#7201a8"
            ],
            [
             0.3333333333333333,
             "#9c179e"
            ],
            [
             0.4444444444444444,
             "#bd3786"
            ],
            [
             0.5555555555555556,
             "#d8576b"
            ],
            [
             0.6666666666666666,
             "#ed7953"
            ],
            [
             0.7777777777777778,
             "#fb9f3a"
            ],
            [
             0.8888888888888888,
             "#fdca26"
            ],
            [
             1,
             "#f0f921"
            ]
           ]
          },
          "colorway": [
           "#636efa",
           "#EF553B",
           "#00cc96",
           "#ab63fa",
           "#FFA15A",
           "#19d3f3",
           "#FF6692",
           "#B6E880",
           "#FF97FF",
           "#FECB52"
          ],
          "font": {
           "color": "#2a3f5f"
          },
          "geo": {
           "bgcolor": "white",
           "lakecolor": "white",
           "landcolor": "#E5ECF6",
           "showlakes": true,
           "showland": true,
           "subunitcolor": "white"
          },
          "hoverlabel": {
           "align": "left"
          },
          "hovermode": "closest",
          "mapbox": {
           "style": "light"
          },
          "paper_bgcolor": "white",
          "plot_bgcolor": "#E5ECF6",
          "polar": {
           "angularaxis": {
            "gridcolor": "white",
            "linecolor": "white",
            "ticks": ""
           },
           "bgcolor": "#E5ECF6",
           "radialaxis": {
            "gridcolor": "white",
            "linecolor": "white",
            "ticks": ""
           }
          },
          "scene": {
           "xaxis": {
            "backgroundcolor": "#E5ECF6",
            "gridcolor": "white",
            "gridwidth": 2,
            "linecolor": "white",
            "showbackground": true,
            "ticks": "",
            "zerolinecolor": "white"
           },
           "yaxis": {
            "backgroundcolor": "#E5ECF6",
            "gridcolor": "white",
            "gridwidth": 2,
            "linecolor": "white",
            "showbackground": true,
            "ticks": "",
            "zerolinecolor": "white"
           },
           "zaxis": {
            "backgroundcolor": "#E5ECF6",
            "gridcolor": "white",
            "gridwidth": 2,
            "linecolor": "white",
            "showbackground": true,
            "ticks": "",
            "zerolinecolor": "white"
           }
          },
          "shapedefaults": {
           "line": {
            "color": "#2a3f5f"
           }
          },
          "ternary": {
           "aaxis": {
            "gridcolor": "white",
            "linecolor": "white",
            "ticks": ""
           },
           "baxis": {
            "gridcolor": "white",
            "linecolor": "white",
            "ticks": ""
           },
           "bgcolor": "#E5ECF6",
           "caxis": {
            "gridcolor": "white",
            "linecolor": "white",
            "ticks": ""
           }
          },
          "title": {
           "x": 0.05
          },
          "xaxis": {
           "automargin": true,
           "gridcolor": "white",
           "linecolor": "white",
           "ticks": "",
           "title": {
            "standoff": 15
           },
           "zerolinecolor": "white",
           "zerolinewidth": 2
          },
          "yaxis": {
           "automargin": true,
           "gridcolor": "white",
           "linecolor": "white",
           "ticks": "",
           "title": {
            "standoff": 15
           },
           "zerolinecolor": "white",
           "zerolinewidth": 2
          }
         }
        },
        "title": {
         "text": "COVID-19 Mortality Rate by State"
        }
       }
      },
      "text/html": [
       "<div>                            <div id=\"311406ea-52c3-4671-9b80-e8f161257368\" class=\"plotly-graph-div\" style=\"height:525px; width:100%;\"></div>            <script type=\"text/javascript\">                require([\"plotly\"], function(Plotly) {                    window.PLOTLYENV=window.PLOTLYENV || {};                                    if (document.getElementById(\"311406ea-52c3-4671-9b80-e8f161257368\")) {                    Plotly.newPlot(                        \"311406ea-52c3-4671-9b80-e8f161257368\",                        [{\"colorbar\": {\"title\": {\"text\": \"Mortality Rate\"}}, \"colorscale\": [[0.0, \"rgb(255,245,240)\"], [0.125, \"rgb(254,224,210)\"], [0.25, \"rgb(252,187,161)\"], [0.375, \"rgb(252,146,114)\"], [0.5, \"rgb(251,106,74)\"], [0.625, \"rgb(239,59,44)\"], [0.75, \"rgb(203,24,29)\"], [0.875, \"rgb(165,15,21)\"], [1.0, \"rgb(103,0,13)\"]], \"locationmode\": \"USA-states\", \"locations\": [\"AK\", \"AL\", \"AR\", \"AZ\", \"CA\", \"CO\", \"CT\", \"DE\", \"FL\", \"GA\", \"HI\", \"IA\", \"ID\", \"IL\", \"IN\", \"KS\", \"KY\", \"LA\", \"MA\", \"MD\", \"ME\", \"MI\", \"MN\", \"MO\", \"MS\", \"MT\", \"NC\", \"ND\", \"NE\", \"NH\", \"NJ\", \"NM\", \"NV\", \"OH\", \"OK\", \"OR\", \"PA\", \"RI\", \"SC\", \"SD\", \"TN\", \"TX\", \"UT\", \"VA\", \"VT\", \"WA\", \"WI\", \"WV\", \"WY\"], \"type\": \"choropleth\", \"z\": [8.962550328167227e-05, 3.5414182755237305e-05, 4.3144769643761e-05, 2.076522496855956e-05, 1.7574892600929745e-05, 2.1116146725545524e-05, 1.606130236437914e-05, 2.104052404931899e-05, 2.2560496500126725e-05, 2.6473755541341332e-05, 3.982794328500876e-05, 3.4393784469916544e-05, 1.6912060666944023e-05, 3.487913502862817e-05, 2.1521664452418497e-05, 4.696391576268513e-05, 7.552417234731433e-05, 2.9310381259896513e-05, 1.8335561502655068e-05, 2.138215614947417e-05, 2.680343566438346e-05, 3.5260881155315716e-05, 5.0241157556270096e-05, 3.7558562014115444e-05, 5.012758080627157e-05, 5.6069252840639e-05, 2.1194778443916e-05, 6.417341081678491e-05, 4.232563651710802e-05, 6.471777900349329e-05, 1.6312703653909678e-05, 2.6643799050493946e-05, 2.084933230013309e-05, 2.9706919120700478e-05, 1.7855734592361018e-05, 2.5152790368431912e-05, 2.3809978166600167e-05, 2.343562683992205e-05, 1.8044068125379207e-05, 3.970785606696333e-05, 3.379680629314802e-05, 1.606432461563235e-05, 1.3421622041371192e-05, 2.1513439753148645e-05, 2.2431772362374065e-05, 2.1294395011027454e-05, 3.363924660320062e-05, 4.554356241745229e-05, 8.065123181314722e-05]}],                        {\"geo\": {\"scope\": \"usa\"}, \"template\": {\"data\": {\"bar\": [{\"error_x\": {\"color\": \"#2a3f5f\"}, \"error_y\": {\"color\": \"#2a3f5f\"}, \"marker\": {\"line\": {\"color\": \"#E5ECF6\", \"width\": 0.5}}, \"type\": \"bar\"}], \"barpolar\": [{\"marker\": {\"line\": {\"color\": \"#E5ECF6\", \"width\": 0.5}}, \"type\": \"barpolar\"}], \"carpet\": [{\"aaxis\": {\"endlinecolor\": \"#2a3f5f\", \"gridcolor\": \"white\", \"linecolor\": \"white\", \"minorgridcolor\": \"white\", \"startlinecolor\": \"#2a3f5f\"}, \"baxis\": {\"endlinecolor\": \"#2a3f5f\", \"gridcolor\": \"white\", \"linecolor\": \"white\", \"minorgridcolor\": \"white\", \"startlinecolor\": \"#2a3f5f\"}, \"type\": \"carpet\"}], \"choropleth\": [{\"colorbar\": {\"outlinewidth\": 0, \"ticks\": \"\"}, \"type\": \"choropleth\"}], \"contour\": [{\"colorbar\": {\"outlinewidth\": 0, \"ticks\": \"\"}, \"colorscale\": [[0.0, \"#0d0887\"], [0.1111111111111111, \"#46039f\"], [0.2222222222222222, \"#7201a8\"], [0.3333333333333333, \"#9c179e\"], [0.4444444444444444, \"#bd3786\"], [0.5555555555555556, \"#d8576b\"], [0.6666666666666666, \"#ed7953\"], [0.7777777777777778, \"#fb9f3a\"], [0.8888888888888888, \"#fdca26\"], [1.0, \"#f0f921\"]], \"type\": \"contour\"}], \"contourcarpet\": [{\"colorbar\": {\"outlinewidth\": 0, \"ticks\": \"\"}, \"type\": \"contourcarpet\"}], \"heatmap\": [{\"colorbar\": {\"outlinewidth\": 0, \"ticks\": \"\"}, \"colorscale\": [[0.0, \"#0d0887\"], [0.1111111111111111, \"#46039f\"], [0.2222222222222222, \"#7201a8\"], [0.3333333333333333, \"#9c179e\"], [0.4444444444444444, \"#bd3786\"], [0.5555555555555556, \"#d8576b\"], [0.6666666666666666, \"#ed7953\"], [0.7777777777777778, \"#fb9f3a\"], [0.8888888888888888, \"#fdca26\"], [1.0, \"#f0f921\"]], \"type\": \"heatmap\"}], \"heatmapgl\": [{\"colorbar\": {\"outlinewidth\": 0, \"ticks\": \"\"}, \"colorscale\": [[0.0, \"#0d0887\"], [0.1111111111111111, \"#46039f\"], [0.2222222222222222, \"#7201a8\"], [0.3333333333333333, \"#9c179e\"], [0.4444444444444444, \"#bd3786\"], [0.5555555555555556, \"#d8576b\"], [0.6666666666666666, \"#ed7953\"], [0.7777777777777778, \"#fb9f3a\"], [0.8888888888888888, \"#fdca26\"], [1.0, \"#f0f921\"]], \"type\": \"heatmapgl\"}], \"histogram\": [{\"marker\": {\"colorbar\": {\"outlinewidth\": 0, \"ticks\": \"\"}}, \"type\": \"histogram\"}], \"histogram2d\": [{\"colorbar\": {\"outlinewidth\": 0, \"ticks\": \"\"}, \"colorscale\": [[0.0, \"#0d0887\"], [0.1111111111111111, \"#46039f\"], [0.2222222222222222, \"#7201a8\"], [0.3333333333333333, \"#9c179e\"], [0.4444444444444444, \"#bd3786\"], [0.5555555555555556, \"#d8576b\"], [0.6666666666666666, \"#ed7953\"], [0.7777777777777778, \"#fb9f3a\"], [0.8888888888888888, \"#fdca26\"], [1.0, \"#f0f921\"]], \"type\": \"histogram2d\"}], \"histogram2dcontour\": [{\"colorbar\": {\"outlinewidth\": 0, \"ticks\": \"\"}, \"colorscale\": [[0.0, \"#0d0887\"], [0.1111111111111111, \"#46039f\"], [0.2222222222222222, \"#7201a8\"], [0.3333333333333333, \"#9c179e\"], [0.4444444444444444, \"#bd3786\"], [0.5555555555555556, \"#d8576b\"], [0.6666666666666666, \"#ed7953\"], [0.7777777777777778, \"#fb9f3a\"], [0.8888888888888888, \"#fdca26\"], [1.0, \"#f0f921\"]], \"type\": \"histogram2dcontour\"}], \"mesh3d\": [{\"colorbar\": {\"outlinewidth\": 0, \"ticks\": \"\"}, \"type\": \"mesh3d\"}], \"parcoords\": [{\"line\": {\"colorbar\": {\"outlinewidth\": 0, \"ticks\": \"\"}}, \"type\": \"parcoords\"}], \"pie\": [{\"automargin\": true, \"type\": \"pie\"}], \"scatter\": [{\"marker\": {\"colorbar\": {\"outlinewidth\": 0, \"ticks\": \"\"}}, \"type\": \"scatter\"}], \"scatter3d\": [{\"line\": {\"colorbar\": {\"outlinewidth\": 0, \"ticks\": \"\"}}, \"marker\": {\"colorbar\": {\"outlinewidth\": 0, \"ticks\": \"\"}}, \"type\": \"scatter3d\"}], \"scattercarpet\": [{\"marker\": {\"colorbar\": {\"outlinewidth\": 0, \"ticks\": \"\"}}, \"type\": \"scattercarpet\"}], \"scattergeo\": [{\"marker\": {\"colorbar\": {\"outlinewidth\": 0, \"ticks\": \"\"}}, \"type\": \"scattergeo\"}], \"scattergl\": [{\"marker\": {\"colorbar\": {\"outlinewidth\": 0, \"ticks\": \"\"}}, \"type\": \"scattergl\"}], \"scattermapbox\": [{\"marker\": {\"colorbar\": {\"outlinewidth\": 0, \"ticks\": \"\"}}, \"type\": \"scattermapbox\"}], \"scatterpolar\": [{\"marker\": {\"colorbar\": {\"outlinewidth\": 0, \"ticks\": \"\"}}, \"type\": \"scatterpolar\"}], \"scatterpolargl\": [{\"marker\": {\"colorbar\": {\"outlinewidth\": 0, \"ticks\": \"\"}}, \"type\": \"scatterpolargl\"}], \"scatterternary\": [{\"marker\": {\"colorbar\": {\"outlinewidth\": 0, \"ticks\": \"\"}}, \"type\": \"scatterternary\"}], \"surface\": [{\"colorbar\": {\"outlinewidth\": 0, \"ticks\": \"\"}, \"colorscale\": [[0.0, \"#0d0887\"], [0.1111111111111111, \"#46039f\"], [0.2222222222222222, \"#7201a8\"], [0.3333333333333333, \"#9c179e\"], [0.4444444444444444, \"#bd3786\"], [0.5555555555555556, \"#d8576b\"], [0.6666666666666666, \"#ed7953\"], [0.7777777777777778, \"#fb9f3a\"], [0.8888888888888888, \"#fdca26\"], [1.0, \"#f0f921\"]], \"type\": \"surface\"}], \"table\": [{\"cells\": {\"fill\": {\"color\": \"#EBF0F8\"}, \"line\": {\"color\": \"white\"}}, \"header\": {\"fill\": {\"color\": \"#C8D4E3\"}, \"line\": {\"color\": \"white\"}}, \"type\": \"table\"}]}, \"layout\": {\"annotationdefaults\": {\"arrowcolor\": \"#2a3f5f\", \"arrowhead\": 0, \"arrowwidth\": 1}, \"autotypenumbers\": \"strict\", \"coloraxis\": {\"colorbar\": {\"outlinewidth\": 0, \"ticks\": \"\"}}, \"colorscale\": {\"diverging\": [[0, \"#8e0152\"], [0.1, \"#c51b7d\"], [0.2, \"#de77ae\"], [0.3, \"#f1b6da\"], [0.4, \"#fde0ef\"], [0.5, \"#f7f7f7\"], [0.6, \"#e6f5d0\"], [0.7, \"#b8e186\"], [0.8, \"#7fbc41\"], [0.9, \"#4d9221\"], [1, \"#276419\"]], \"sequential\": [[0.0, \"#0d0887\"], [0.1111111111111111, \"#46039f\"], [0.2222222222222222, \"#7201a8\"], [0.3333333333333333, \"#9c179e\"], [0.4444444444444444, \"#bd3786\"], [0.5555555555555556, \"#d8576b\"], [0.6666666666666666, \"#ed7953\"], [0.7777777777777778, \"#fb9f3a\"], [0.8888888888888888, \"#fdca26\"], [1.0, \"#f0f921\"]], \"sequentialminus\": [[0.0, \"#0d0887\"], [0.1111111111111111, \"#46039f\"], [0.2222222222222222, \"#7201a8\"], [0.3333333333333333, \"#9c179e\"], [0.4444444444444444, \"#bd3786\"], [0.5555555555555556, \"#d8576b\"], [0.6666666666666666, \"#ed7953\"], [0.7777777777777778, \"#fb9f3a\"], [0.8888888888888888, \"#fdca26\"], [1.0, \"#f0f921\"]]}, \"colorway\": [\"#636efa\", \"#EF553B\", \"#00cc96\", \"#ab63fa\", \"#FFA15A\", \"#19d3f3\", \"#FF6692\", \"#B6E880\", \"#FF97FF\", \"#FECB52\"], \"font\": {\"color\": \"#2a3f5f\"}, \"geo\": {\"bgcolor\": \"white\", \"lakecolor\": \"white\", \"landcolor\": \"#E5ECF6\", \"showlakes\": true, \"showland\": true, \"subunitcolor\": \"white\"}, \"hoverlabel\": {\"align\": \"left\"}, \"hovermode\": \"closest\", \"mapbox\": {\"style\": \"light\"}, \"paper_bgcolor\": \"white\", \"plot_bgcolor\": \"#E5ECF6\", \"polar\": {\"angularaxis\": {\"gridcolor\": \"white\", \"linecolor\": \"white\", \"ticks\": \"\"}, \"bgcolor\": \"#E5ECF6\", \"radialaxis\": {\"gridcolor\": \"white\", \"linecolor\": \"white\", \"ticks\": \"\"}}, \"scene\": {\"xaxis\": {\"backgroundcolor\": \"#E5ECF6\", \"gridcolor\": \"white\", \"gridwidth\": 2, \"linecolor\": \"white\", \"showbackground\": true, \"ticks\": \"\", \"zerolinecolor\": \"white\"}, \"yaxis\": {\"backgroundcolor\": \"#E5ECF6\", \"gridcolor\": \"white\", \"gridwidth\": 2, \"linecolor\": \"white\", \"showbackground\": true, \"ticks\": \"\", \"zerolinecolor\": \"white\"}, \"zaxis\": {\"backgroundcolor\": \"#E5ECF6\", \"gridcolor\": \"white\", \"gridwidth\": 2, \"linecolor\": \"white\", \"showbackground\": true, \"ticks\": \"\", \"zerolinecolor\": \"white\"}}, \"shapedefaults\": {\"line\": {\"color\": \"#2a3f5f\"}}, \"ternary\": {\"aaxis\": {\"gridcolor\": \"white\", \"linecolor\": \"white\", \"ticks\": \"\"}, \"baxis\": {\"gridcolor\": \"white\", \"linecolor\": \"white\", \"ticks\": \"\"}, \"bgcolor\": \"#E5ECF6\", \"caxis\": {\"gridcolor\": \"white\", \"linecolor\": \"white\", \"ticks\": \"\"}}, \"title\": {\"x\": 0.05}, \"xaxis\": {\"automargin\": true, \"gridcolor\": \"white\", \"linecolor\": \"white\", \"ticks\": \"\", \"title\": {\"standoff\": 15}, \"zerolinecolor\": \"white\", \"zerolinewidth\": 2}, \"yaxis\": {\"automargin\": true, \"gridcolor\": \"white\", \"linecolor\": \"white\", \"ticks\": \"\", \"title\": {\"standoff\": 15}, \"zerolinecolor\": \"white\", \"zerolinewidth\": 2}}}, \"title\": {\"text\": \"COVID-19 Mortality Rate by State\"}},                        {\"responsive\": true}                    ).then(function(){\n",
       "                            \n",
       "var gd = document.getElementById('311406ea-52c3-4671-9b80-e8f161257368');\n",
       "var x = new MutationObserver(function (mutations, observer) {{\n",
       "        var display = window.getComputedStyle(gd).display;\n",
       "        if (!display || display === 'none') {{\n",
       "            console.log([gd, 'removed!']);\n",
       "            Plotly.purge(gd);\n",
       "            observer.disconnect();\n",
       "        }}\n",
       "}});\n",
       "\n",
       "// Listen for the removal of the full notebook cells\n",
       "var notebookContainer = gd.closest('#notebook-container');\n",
       "if (notebookContainer) {{\n",
       "    x.observe(notebookContainer, {childList: true});\n",
       "}}\n",
       "\n",
       "// Listen for the clearing of the current output cell\n",
       "var outputEl = gd.closest('.output');\n",
       "if (outputEl) {{\n",
       "    x.observe(outputEl, {childList: true});\n",
       "}}\n",
       "\n",
       "                        })                };                });            </script>        </div>"
      ]
     },
     "metadata": {},
     "output_type": "display_data"
    }
   ],
   "source": [
    "fig = go.Figure(data=go.Choropleth(\n",
    "    locations=states2['STATE'].astype(str), # Spatial coordinates\n",
    "    z = vax_mortality_df['mortality_rate_by_state'], # Data to be color-coded\n",
    "    locationmode = 'USA-states', # set of locations match entries in `locations`\n",
    "    colorscale = 'Reds',\n",
    "    colorbar_title = \"Mortality Rate\",\n",
    "))\n",
    "\n",
    "fig.update_layout(\n",
    "    title_text = 'COVID-19 Mortality Rate by State',\n",
    "    geo_scope='usa', # limite map scope to USA\n",
    ")\n",
    "\n",
    "fig.show()"
   ]
  },
  {
   "cell_type": "code",
   "execution_count": 46,
   "metadata": {},
   "outputs": [
    {
     "data": {
      "text/plain": [
       "Ttest_indResult(statistic=-134.88774334088092, pvalue=0.0)"
      ]
     },
     "execution_count": 46,
     "metadata": {},
     "output_type": "execute_result"
    }
   ],
   "source": [
    "from scipy import stats\n",
    "df_merge_code = df_merge2.copy(deep=True)\n",
    "df_merge_code['DIED'] = df_merge_code.DIED.map({'Y':1, 'N':0})\n",
    "stats.ttest_ind(df_merge_code['DIED'], df_merge_code.loc[df_merge_code['AGE_YRS'] < 65]['AGE_YRS'], equal_var = False)\n",
    "\n",
    "# df_merge2.loc[df_merge2['AGE_YRS'] < 65]['AGE_YRS']\n",
    "# df_merge_code['DIED'].values\n"
   ]
  },
  {
   "cell_type": "code",
   "execution_count": 47,
   "metadata": {},
   "outputs": [
    {
     "data": {
      "text/html": [
       "<div>\n",
       "<style scoped>\n",
       "    .dataframe tbody tr th:only-of-type {\n",
       "        vertical-align: middle;\n",
       "    }\n",
       "\n",
       "    .dataframe tbody tr th {\n",
       "        vertical-align: top;\n",
       "    }\n",
       "\n",
       "    .dataframe thead th {\n",
       "        text-align: right;\n",
       "    }\n",
       "</style>\n",
       "<table border=\"1\" class=\"dataframe\">\n",
       "  <thead>\n",
       "    <tr style=\"text-align: right;\">\n",
       "      <th></th>\n",
       "      <th>VAERS_ID</th>\n",
       "      <th>VAX_MANU</th>\n",
       "      <th>VAX_NAME</th>\n",
       "      <th>STATE</th>\n",
       "      <th>AGE_YRS</th>\n",
       "      <th>SEX</th>\n",
       "      <th>DIED</th>\n",
       "      <th>DATEDIED</th>\n",
       "      <th>ER_VISIT</th>\n",
       "      <th>HOSPITAL</th>\n",
       "      <th>...</th>\n",
       "      <th>People 65+ Fully Vaccinated by State of Residence</th>\n",
       "      <th>Percent of 65+ Pop Fully Vaccinated by State of Residence</th>\n",
       "      <th>People 65+ Fully Vaccinated_Moderna_Resident</th>\n",
       "      <th>People 65+ Fully Vaccinated_Pfizer_Resident</th>\n",
       "      <th>People 65+ Fully Vaccinated_Janssen_Resident</th>\n",
       "      <th>People 12+ Fully Vaccinated by State of Residence</th>\n",
       "      <th>Percent of 12+ Pop Fully Vaccinated by State of Residence</th>\n",
       "      <th>People 12+ Fully Vaccinated_Moderna_Resident</th>\n",
       "      <th>People 12+ Fully Vaccinated_Pfizer_Resident</th>\n",
       "      <th>People 12+ Fully Vaccinated_Janssen_Resident</th>\n",
       "    </tr>\n",
       "  </thead>\n",
       "  <tbody>\n",
       "    <tr>\n",
       "      <th>852</th>\n",
       "      <td>930876</td>\n",
       "      <td>MODERNA</td>\n",
       "      <td>COVID19 (COVID19 (MODERNA))</td>\n",
       "      <td>TX</td>\n",
       "      <td>88.0</td>\n",
       "      <td>M</td>\n",
       "      <td>1</td>\n",
       "      <td>01/08/2021</td>\n",
       "      <td>NaN</td>\n",
       "      <td>NaN</td>\n",
       "      <td>...</td>\n",
       "      <td>2641680</td>\n",
       "      <td>70.7</td>\n",
       "      <td>1088510</td>\n",
       "      <td>1334324</td>\n",
       "      <td>218676</td>\n",
       "      <td>10455865</td>\n",
       "      <td>43.4</td>\n",
       "      <td>4308362</td>\n",
       "      <td>5281305</td>\n",
       "      <td>865528</td>\n",
       "    </tr>\n",
       "    <tr>\n",
       "      <th>1099</th>\n",
       "      <td>935350</td>\n",
       "      <td>MODERNA</td>\n",
       "      <td>COVID19 (COVID19 (MODERNA))</td>\n",
       "      <td>TX</td>\n",
       "      <td>81.0</td>\n",
       "      <td>M</td>\n",
       "      <td>1</td>\n",
       "      <td>01/06/2021</td>\n",
       "      <td>NaN</td>\n",
       "      <td>Y</td>\n",
       "      <td>...</td>\n",
       "      <td>2641680</td>\n",
       "      <td>70.7</td>\n",
       "      <td>1088510</td>\n",
       "      <td>1334324</td>\n",
       "      <td>218676</td>\n",
       "      <td>10455865</td>\n",
       "      <td>43.4</td>\n",
       "      <td>4308362</td>\n",
       "      <td>5281305</td>\n",
       "      <td>865528</td>\n",
       "    </tr>\n",
       "    <tr>\n",
       "      <th>1380</th>\n",
       "      <td>940602</td>\n",
       "      <td>MODERNA</td>\n",
       "      <td>COVID19 (COVID19 (MODERNA))</td>\n",
       "      <td>TX</td>\n",
       "      <td>83.0</td>\n",
       "      <td>M</td>\n",
       "      <td>1</td>\n",
       "      <td>NaN</td>\n",
       "      <td>NaN</td>\n",
       "      <td>NaN</td>\n",
       "      <td>...</td>\n",
       "      <td>2641680</td>\n",
       "      <td>70.7</td>\n",
       "      <td>1088510</td>\n",
       "      <td>1334324</td>\n",
       "      <td>218676</td>\n",
       "      <td>10455865</td>\n",
       "      <td>43.4</td>\n",
       "      <td>4308362</td>\n",
       "      <td>5281305</td>\n",
       "      <td>865528</td>\n",
       "    </tr>\n",
       "    <tr>\n",
       "      <th>2464</th>\n",
       "      <td>963235</td>\n",
       "      <td>MODERNA</td>\n",
       "      <td>COVID19 (COVID19 (MODERNA))</td>\n",
       "      <td>TX</td>\n",
       "      <td>94.0</td>\n",
       "      <td>F</td>\n",
       "      <td>1</td>\n",
       "      <td>01/18/2021</td>\n",
       "      <td>NaN</td>\n",
       "      <td>Y</td>\n",
       "      <td>...</td>\n",
       "      <td>2641680</td>\n",
       "      <td>70.7</td>\n",
       "      <td>1088510</td>\n",
       "      <td>1334324</td>\n",
       "      <td>218676</td>\n",
       "      <td>10455865</td>\n",
       "      <td>43.4</td>\n",
       "      <td>4308362</td>\n",
       "      <td>5281305</td>\n",
       "      <td>865528</td>\n",
       "    </tr>\n",
       "    <tr>\n",
       "      <th>2468</th>\n",
       "      <td>963269</td>\n",
       "      <td>MODERNA</td>\n",
       "      <td>COVID19 (COVID19 (MODERNA))</td>\n",
       "      <td>TX</td>\n",
       "      <td>87.0</td>\n",
       "      <td>F</td>\n",
       "      <td>1</td>\n",
       "      <td>01/18/2021</td>\n",
       "      <td>NaN</td>\n",
       "      <td>NaN</td>\n",
       "      <td>...</td>\n",
       "      <td>2641680</td>\n",
       "      <td>70.7</td>\n",
       "      <td>1088510</td>\n",
       "      <td>1334324</td>\n",
       "      <td>218676</td>\n",
       "      <td>10455865</td>\n",
       "      <td>43.4</td>\n",
       "      <td>4308362</td>\n",
       "      <td>5281305</td>\n",
       "      <td>865528</td>\n",
       "    </tr>\n",
       "  </tbody>\n",
       "</table>\n",
       "<p>5 rows × 35 columns</p>\n",
       "</div>"
      ],
      "text/plain": [
       "      VAERS_ID VAX_MANU                     VAX_NAME STATE  AGE_YRS SEX  DIED  \\\n",
       "852     930876  MODERNA  COVID19 (COVID19 (MODERNA))    TX     88.0   M     1   \n",
       "1099    935350  MODERNA  COVID19 (COVID19 (MODERNA))    TX     81.0   M     1   \n",
       "1380    940602  MODERNA  COVID19 (COVID19 (MODERNA))    TX     83.0   M     1   \n",
       "2464    963235  MODERNA  COVID19 (COVID19 (MODERNA))    TX     94.0   F     1   \n",
       "2468    963269  MODERNA  COVID19 (COVID19 (MODERNA))    TX     87.0   F     1   \n",
       "\n",
       "        DATEDIED ER_VISIT HOSPITAL  ...  \\\n",
       "852   01/08/2021      NaN      NaN  ...   \n",
       "1099  01/06/2021      NaN        Y  ...   \n",
       "1380         NaN      NaN      NaN  ...   \n",
       "2464  01/18/2021      NaN        Y  ...   \n",
       "2468  01/18/2021      NaN      NaN  ...   \n",
       "\n",
       "      People 65+ Fully Vaccinated by State of Residence  \\\n",
       "852                                             2641680   \n",
       "1099                                            2641680   \n",
       "1380                                            2641680   \n",
       "2464                                            2641680   \n",
       "2468                                            2641680   \n",
       "\n",
       "     Percent of 65+ Pop Fully Vaccinated by State of Residence  \\\n",
       "852                                                70.7          \n",
       "1099                                               70.7          \n",
       "1380                                               70.7          \n",
       "2464                                               70.7          \n",
       "2468                                               70.7          \n",
       "\n",
       "     People 65+ Fully Vaccinated_Moderna_Resident  \\\n",
       "852                                       1088510   \n",
       "1099                                      1088510   \n",
       "1380                                      1088510   \n",
       "2464                                      1088510   \n",
       "2468                                      1088510   \n",
       "\n",
       "      People 65+ Fully Vaccinated_Pfizer_Resident  \\\n",
       "852                                       1334324   \n",
       "1099                                      1334324   \n",
       "1380                                      1334324   \n",
       "2464                                      1334324   \n",
       "2468                                      1334324   \n",
       "\n",
       "      People 65+ Fully Vaccinated_Janssen_Resident  \\\n",
       "852                                         218676   \n",
       "1099                                        218676   \n",
       "1380                                        218676   \n",
       "2464                                        218676   \n",
       "2468                                        218676   \n",
       "\n",
       "      People 12+ Fully Vaccinated by State of Residence  \\\n",
       "852                                            10455865   \n",
       "1099                                           10455865   \n",
       "1380                                           10455865   \n",
       "2464                                           10455865   \n",
       "2468                                           10455865   \n",
       "\n",
       "      Percent of 12+ Pop Fully Vaccinated by State of Residence  \\\n",
       "852                                                43.4           \n",
       "1099                                               43.4           \n",
       "1380                                               43.4           \n",
       "2464                                               43.4           \n",
       "2468                                               43.4           \n",
       "\n",
       "      People 12+ Fully Vaccinated_Moderna_Resident  \\\n",
       "852                                        4308362   \n",
       "1099                                       4308362   \n",
       "1380                                       4308362   \n",
       "2464                                       4308362   \n",
       "2468                                       4308362   \n",
       "\n",
       "      People 12+ Fully Vaccinated_Pfizer_Resident  \\\n",
       "852                                       5281305   \n",
       "1099                                      5281305   \n",
       "1380                                      5281305   \n",
       "2464                                      5281305   \n",
       "2468                                      5281305   \n",
       "\n",
       "      People 12+ Fully Vaccinated_Janssen_Resident  \n",
       "852                                         865528  \n",
       "1099                                        865528  \n",
       "1380                                        865528  \n",
       "2464                                        865528  \n",
       "2468                                        865528  \n",
       "\n",
       "[5 rows x 35 columns]"
      ]
     },
     "execution_count": 47,
     "metadata": {},
     "output_type": "execute_result"
    }
   ],
   "source": [
    "df_merge_code.head()"
   ]
  },
  {
   "cell_type": "code",
   "execution_count": 48,
   "metadata": {},
   "outputs": [
    {
     "data": {
      "text/plain": [
       "(3246,)"
      ]
     },
     "execution_count": 48,
     "metadata": {},
     "output_type": "execute_result"
    }
   ],
   "source": [
    "df_merge2['DIED'].shape"
   ]
  },
  {
   "cell_type": "code",
   "execution_count": 49,
   "metadata": {},
   "outputs": [
    {
     "data": {
      "text/plain": [
       "(3246, 35)"
      ]
     },
     "execution_count": 49,
     "metadata": {},
     "output_type": "execute_result"
    }
   ],
   "source": [
    "df_died = df_merge.loc[df_merge['DIED'] == 'Y']\n",
    "df_lived = df_merge.loc[df_merge['DIED'] == 'N']\n",
    "df_died.shape\n",
    "# df_lived['AGE_YRS']\n",
    "# df_died['AGE_YRS'].dtype"
   ]
  },
  {
   "cell_type": "code",
   "execution_count": 50,
   "metadata": {},
   "outputs": [
    {
     "data": {
      "text/plain": [
       "Ttest_indResult(statistic=82.74394468906031, pvalue=0.0)"
      ]
     },
     "execution_count": 50,
     "metadata": {},
     "output_type": "execute_result"
    }
   ],
   "source": [
    "stats.ttest_ind(df_died['AGE_YRS'].dropna(), df_lived['AGE_YRS'].dropna(), equal_var = False)\n"
   ]
  },
  {
   "cell_type": "code",
   "execution_count": 51,
   "metadata": {},
   "outputs": [
    {
     "data": {
      "image/png": "[encoded data removed]",
      "text/plain": [
       "<Figure size 432x288 with 1 Axes>"
      ]
     },
     "metadata": {
      "needs_background": "light"
     },
     "output_type": "display_data"
    }
   ],
   "source": [
    "plt.boxplot([df_lived['AGE_YRS'].dropna(), df_died['AGE_YRS'].dropna()],labels = ['Lived','Not Alive'])\n",
    "plt.ylabel('Age of Patient')\n",
    "plt.show()"
   ]
  },
  {
   "cell_type": "code",
   "execution_count": 58,
   "metadata": {
    "scrolled": true
   },
   "outputs": [
    {
     "data": {
      "image/png": "[encoded data removed]",
      "text/plain": [
       "<Figure size 432x288 with 1 Axes>"
      ]
     },
     "metadata": {
      "needs_background": "light"
     },
     "output_type": "display_data"
    }
   ],
   "source": [
    "plt.hist([df_lived['AGE_YRS'].dropna(), df_died['AGE_YRS'].dropna()],histtype='step',density=True)\n",
    "plt.xlabel('Age')\n",
    "plt.ylabel('Density')\n",
    "plt.legend(['Lived','Not Lived'])\n",
    "plt.show()"
   ]
  },
  {
   "cell_type": "code",
   "execution_count": 54,
   "metadata": {},
   "outputs": [
    {
     "data": {
      "text/plain": [
       "Ttest_indResult(statistic=30.52115387222009, pvalue=3.6330367957379495e-167)"
      ]
     },
     "execution_count": 54,
     "metadata": {},
     "output_type": "execute_result"
    }
   ],
   "source": [
    "stats.ttest_ind(df_died['AGE_YRS'].dropna().sample(n=1000), df_lived['AGE_YRS'].dropna().sample(n=1000), equal_var = False)"
   ]
  },
  {
   "cell_type": "code",
   "execution_count": null,
   "metadata": {},
   "outputs": [],
   "source": []
  }
 ],
 "metadata": {
  "kernelspec": {
   "display_name": "Python [conda env:root] *",
   "language": "python",
   "name": "conda-root-py"
  },
  "language_info": {
   "codemirror_mode": {
    "name": "ipython",
    "version": 3
   },
   "file_extension": ".py",
   "mimetype": "text/x-python",
   "name": "python",
   "nbconvert_exporter": "python",
   "pygments_lexer": "ipython3",
   "version": "3.8.5"
  }
 },
 "nbformat": 4,
 "nbformat_minor": 4
}
