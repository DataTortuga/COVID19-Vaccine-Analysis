{
 "cells": [
  {
   "cell_type": "code",
   "execution_count": 1,
   "metadata": {},
   "outputs": [
    {
     "ename": "NameError",
     "evalue": "name 'true' is not defined",
     "output_type": "error",
     "traceback": [
      "\u001b[1;31m---------------------------------------------------------------------------\u001b[0m",
      "\u001b[1;31mNameError\u001b[0m                                 Traceback (most recent call last)",
      "\u001b[1;32m<ipython-input-1-4c8509935006>\u001b[0m in \u001b[0;36m<module>\u001b[1;34m\u001b[0m\n\u001b[0;32m     19\u001b[0m       \u001b[1;34m\"c_valuesLink\"\u001b[0m\u001b[1;33m:\u001b[0m \u001b[1;34m\"https://api.census.gov/data/2019/pep/population/values.json\"\u001b[0m\u001b[1;33m,\u001b[0m\u001b[1;33m\u001b[0m\u001b[1;33m\u001b[0m\u001b[0m\n\u001b[0;32m     20\u001b[0m       \u001b[1;34m\"c_documentationLink\"\u001b[0m\u001b[1;33m:\u001b[0m \u001b[1;34m\"https://www.census.gov/developer/\"\u001b[0m\u001b[1;33m,\u001b[0m\u001b[1;33m\u001b[0m\u001b[1;33m\u001b[0m\u001b[0m\n\u001b[1;32m---> 21\u001b[1;33m       \u001b[1;34m\"c_isAggregate\"\u001b[0m\u001b[1;33m:\u001b[0m \u001b[0mtrue\u001b[0m\u001b[1;33m,\u001b[0m\u001b[1;33m\u001b[0m\u001b[1;33m\u001b[0m\u001b[0m\n\u001b[0m\u001b[0;32m     22\u001b[0m       \u001b[1;34m\"c_isAvailable\"\u001b[0m\u001b[1;33m:\u001b[0m \u001b[0mtrue\u001b[0m\u001b[1;33m,\u001b[0m\u001b[1;33m\u001b[0m\u001b[1;33m\u001b[0m\u001b[0m\n\u001b[0;32m     23\u001b[0m       \u001b[1;34m\"@type\"\u001b[0m\u001b[1;33m:\u001b[0m \u001b[1;34m\"dcat:Dataset\"\u001b[0m\u001b[1;33m,\u001b[0m\u001b[1;33m\u001b[0m\u001b[1;33m\u001b[0m\u001b[0m\n",
      "\u001b[1;31mNameError\u001b[0m: name 'true' is not defined"
     ]
    }
   ],
   "source": [
    "{\n",
    "  \"@context\": \"https://project-open-data.cio.gov/v1.1/schema/catalog.jsonld\",\n",
    "  \"@id\": \"https://api.census.gov/data/2019/pep/population.json\",\n",
    "  \"@type\": \"dcat:Catalog\",\n",
    "  \"conformsTo\": \"https://project-open-data.cio.gov/v1.1/schema\",\n",
    "  \"describedBy\": \"https://project-open-data.cio.gov/v1.1/schema/catalog.json\",\n",
    "  \"dataset\": [\n",
    "    {\n",
    "      \"c_vintage\": 2019,\n",
    "      \"c_dataset\": [\n",
    "        \"pep\",\n",
    "        \"population\"\n",
    "      ],\n",
    "      \"c_geographyLink\": \"https://api.census.gov/data/2019/pep/population/geography.json\",\n",
    "      \"c_variablesLink\": \"https://api.census.gov/data/2019/pep/population/variables.json\",\n",
    "      \"c_tagsLink\": \"https://api.census.gov/data/2019/pep/population/tags.json\",\n",
    "      \"c_examplesLink\": \"https://api.census.gov/data/2019/pep/population/examples.json\",\n",
    "      \"c_groupsLink\": \"https://api.census.gov/data/2019/pep/population/groups.json\",\n",
    "      \"c_valuesLink\": \"https://api.census.gov/data/2019/pep/population/values.json\",\n",
    "      \"c_documentationLink\": \"https://www.census.gov/developer/\",\n",
    "      \"c_isAggregate\": true,\n",
    "      \"c_isAvailable\": true,\n",
    "      \"@type\": \"dcat:Dataset\",\n",
    "      \"title\": \"Population Estimates: Population Estimates\",\n",
    "      \"accessLevel\": \"public\",\n",
    "      \"bureauCode\": [\n",
    "        \"006:07\"\n",
    "      ],\n",
    "      \"description\": \"Annual  Population Estimates for the United States, States, Metropolitan Statistical Areas, Micropolitan Statistical Areas, Counties, Incorporated Places, and Minor Civil Divisions; and for Puerto Rico and Its Municipios: April 1, 2010 to July 1, 2019 // Source: U.S. Census Bureau, Population Division // The contents of this file are released on a rolling basis from December through May. // Note: The estimates are based on the 2010 Census and reflect changes to the April 1, 2010 population due to the Count Question Resolution program and geographic program revisions. // The Office of Management and Budget's statistical area delineations for metropolitan, micropolitan, and combined statistical areas, as well as metropolitan divisions, are those issued by that agency in September 2018. // Current data on births, deaths, and migration are used to calculate population change since the 2010 Census. An annual time series of estimates is produced, beginning with the census and extending to the vintage year. The vintage year (e.g., Vintage 2019) refers to the final year of the time series. The reference date for all estimates is July 1, unless otherwise specified. With each new issue of estimates, the entire estimates series is revised. Additional information, including historical and intercensal estimates, evaluation estimates, demographic analysis, research papers, and methodology is available on website: https://www.census.gov/programs-surveys/popest.html.\",\n",
    "      \"distribution\": [\n",
    "        {\n",
    "          \"@type\": \"dcat:Distribution\",\n",
    "          \"accessURL\": \"https://api.census.gov/data/2019/pep/population\",\n",
    "          \"description\": \"API endpoint\",\n",
    "          \"format\": \"API\",\n",
    "          \"mediaType\": \"application/json\",\n",
    "          \"title\": \"API endpoint\"\n",
    "        }\n",
    "      ],\n",
    "      \"contactPoint\": {\n",
    "        \"fn\": \"Coordination, Dissemination, and Outreach Branch\",\n",
    "        \"hasEmail\": \"mailto:POP.PEP.API.list@census.gov\"\n",
    "      },\n",
    "      \"identifier\": \"https://api.census.gov/data/id/PEPPOP2019\",\n",
    "      \"keyword\": [\n",
    "      ],\n",
    "      \"license\": \"https://creativecommons.org/publicdomain/zero/1.0/\",\n",
    "      \"modified\": \"2019-12-17 13:13:16.0\",\n",
    "      \"programCode\": [\n",
    "        \"006:008\"\n",
    "      ],\n",
    "      \"references\": [\n",
    "        \"https://www.census.gov/developers/\"\n",
    "      ],\n",
    "      \"temporal\": \"unidentified\",\n",
    "      \"publisher\": {\n",
    "        \"@type\": \"org:Organization\",\n",
    "        \"name\": \"U.S. Census Bureau\",\n",
    "        \"subOrganizationOf\": {\n",
    "             \"@type\": \"org:Organization\",\n",
    "             \"name\": \"U.S. Department Of Commerce\",\n",
    "             \"subOrganizationOf\": {\n",
    "                 \"@type\": \"org:Organization\",\n",
    "                 \"name\": \"U.S. Government\"\n",
    "             }\n",
    "         }\n",
    "      }\n",
    "    }\n",
    "  ]\n",
    "}"
   ]
  },
  {
   "cell_type": "code",
   "execution_count": null,
   "metadata": {},
   "outputs": [],
   "source": []
  }
 ],
 "metadata": {
  "kernelspec": {
   "display_name": "Python [conda env:root] *",
   "language": "python",
   "name": "conda-root-py"
  },
  "language_info": {
   "codemirror_mode": {
    "name": "ipython",
    "version": 3
   },
   "file_extension": ".py",
   "mimetype": "text/x-python",
   "name": "python",
   "nbconvert_exporter": "python",
   "pygments_lexer": "ipython3",
   "version": "3.8.5"
  }
 },
 "nbformat": 4,
 "nbformat_minor": 4
}
